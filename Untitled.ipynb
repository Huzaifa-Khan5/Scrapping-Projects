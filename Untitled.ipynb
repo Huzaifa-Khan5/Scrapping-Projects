{
 "cells": [
  {
   "cell_type": "code",
   "execution_count": 1,
   "id": "fce1cb05-541f-41d4-9b2f-ff69173cb894",
   "metadata": {},
   "outputs": [],
   "source": [
    "from selenium import webdriver\n",
    "from selenium.webdriver.common.by import By\n",
    "import time\n",
    "from selenium.webdriver.support.ui import WebDriverWait\n",
    "from selenium.webdriver.support import expected_conditions as EC\n",
    "from selenium.common.exceptions import NoSuchElementException\n",
    "import pandas as pd\n",
    "from selenium.webdriver.common.keys import Keys"
   ]
  },
  {
   "cell_type": "code",
   "execution_count": 2,
   "id": "c4b64f75-ea24-4e1d-b60c-ccc442abbde4",
   "metadata": {},
   "outputs": [],
   "source": [
    "driver=webdriver.Chrome()"
   ]
  },
  {
   "cell_type": "code",
   "execution_count": 5,
   "id": "c47d8f32-a089-4910-839b-f738f182fa82",
   "metadata": {
    "scrolled": true
   },
   "outputs": [],
   "source": [
    "driver.get(\"https://www.aliexpress.com/w/wholesale-Living-Room-Sofas.html?spm=a2g0o.categorymp.0.0.37ed8c3S8c3S3M&categoryUrlParams=%7B%22q%22%3A%22Living%20Room%20Sofas%22%2C%22s%22%3A%22qp_nw%22%2C%22osf%22%3A%22category_navigate%22%2C%22sg_search_params%22%3A%22%22%2C%22guide_trace%22%3A%226b5d4458-c622-485a-8158-53dec020853d%22%2C%22scene_id%22%3A%2237749%22%2C%22searchBizScene%22%3A%22openSearch%22%2C%22recog_lang%22%3A%22en%22%2C%22bizScene%22%3A%22category_navigate%22%2C%22guideModule%22%3A%22category_navigate_vertical%22%2C%22postCatIds%22%3A%221503%2C15%22%2C%22scene%22%3A%22category_navigate%22%7D&isFromCategory=y\")\n",
    "# https://www.aliexpress.com/w/wholesale-Wok.html?isFromCategory=y&categoryUrlParams=%7B%22q%22%3A%22Wok%22%2C%22s%22%3A%22qp_nw%22%2C%22osf%22%3A%22category_navigate%22%2C%22sg_search_params%22%3A%22%22%2C%22guide_trace%22%3A%22c6caf7c3-5132-41c2-98d6-e2757a49fe47%22%2C%22scene_id%22%3A%2237749%22%2C%22searchBizScene%22%3A%22openSearch%22%2C%22recog_lang%22%3A%22en%22%2C%22bizScene%22%3A%22category_navigate%22%2C%22guideModule%22%3A%22category_navigate_vertical%22%2C%22postCatIds%22%3A%2215%2C13%22%2C%22scene%22%3A%22category_navigate%22%7D&page=2&g=y&SearchText=Wok\n",
    "try:\n",
    "    driver.maximize_window()\n",
    "except:\n",
    "    pass"
   ]
  },
  {
   "cell_type": "code",
   "execution_count": 4,
   "id": "c7389e47-d1ba-4e10-b7ad-7c33228c2195",
   "metadata": {},
   "outputs": [],
   "source": [
    "wait=WebDriverWait(driver, 15)\n",
    "wait.until(EC.presence_of_element_located((By.XPATH,'//*[@id=\"_full_container_header_23_\"]/div[2]/div/div[2]/div[2]/div/div'))).click()\n",
    "wait.until(EC.presence_of_element_located((By.XPATH,'//*[@id=\"_full_container_header_23_\"]/div[2]/div/div[2]/div[2]/div[2]/div[6]/div/div[1]'))).click()\n",
    "wait.until(EC.presence_of_element_located((By.XPATH,'//*[@id=\"_full_container_header_23_\"]/div[2]/div/div[2]/div[2]/div[2]/div[6]/div/div[2]/div[3]'))).click()\n",
    "wait.until(EC.presence_of_element_located((By.XPATH,'//*[@id=\"_full_container_header_23_\"]/div[2]/div/div[2]/div[2]/div[2]/div[7]'))).click()"
   ]
  },
  {
   "cell_type": "code",
   "execution_count": 6,
   "id": "eaa37e23-48b9-42cc-9fa4-66f9970ddebd",
   "metadata": {},
   "outputs": [],
   "source": [
    "scroll_pause_time=2\n",
    "scroll_step=300\n",
    "last_height = driver.execute_script(\"return document.body.scrollHeight\")\n",
    "current_position = 0\n",
    "while True:\n",
    "            # Scroll down a small amount\n",
    "    current_position = min(current_position + scroll_step, last_height)\n",
    "    driver.execute_script(f\"window.scrollTo(0, {current_position});\")\n",
    "                \n",
    "                # Wait for new content to load\n",
    "    time.sleep(scroll_pause_time)\n",
    "                \n",
    "                # Calculate new scroll height\n",
    "    new_height = driver.execute_script(\"return document.body.scrollHeight\")\n",
    "                \n",
    "                # Break if we've reached the bottom\n",
    "    if current_position >= last_height:\n",
    "                    # One final check for any dynamically loaded content\n",
    "        time.sleep(scroll_pause_time * 2)\n",
    "        final_height = driver.execute_script(\"return document.body.scrollHeight\")\n",
    "        if final_height == last_height:\n",
    "            break\n",
    "        last_height = final_height"
   ]
  },
  {
   "cell_type": "code",
   "execution_count": 7,
   "id": "7d5afa1a-570e-48f5-9f7f-10b3d71035f9",
   "metadata": {},
   "outputs": [],
   "source": [
    "products=driver.find_elements(by=By.CSS_SELECTOR,value='div.hm_hn div div div a')"
   ]
  },
  {
   "cell_type": "code",
   "execution_count": 8,
   "id": "e7b28a4b-c39b-401a-8161-9e5120e6ea65",
   "metadata": {},
   "outputs": [
    {
     "data": {
      "text/plain": [
       "59"
      ]
     },
     "execution_count": 8,
     "metadata": {},
     "output_type": "execute_result"
    }
   ],
   "source": [
    "len(products)"
   ]
  },
  {
   "cell_type": "code",
   "execution_count": 9,
   "id": "5986503d-21e9-4335-b84a-87e07377da43",
   "metadata": {},
   "outputs": [],
   "source": [
    "products_links=[product.get_attribute(\"href\") for product in products if product.get_attribute(\"href\").startswith(\"https://www.aliexpress.com/item\")]"
   ]
  },
  {
   "cell_type": "code",
   "execution_count": 10,
   "id": "97b1b363-d084-402d-8ab7-d807c5cf43f1",
   "metadata": {},
   "outputs": [
    {
     "data": {
      "text/plain": [
       "59"
      ]
     },
     "execution_count": 10,
     "metadata": {},
     "output_type": "execute_result"
    }
   ],
   "source": [
    "len(products_links)"
   ]
  },
  {
   "cell_type": "code",
   "execution_count": 12,
   "id": "2fc79cbc-6d54-4e54-a788-8fc0a3d8c797",
   "metadata": {},
   "outputs": [
    {
     "ename": "NoSuchElementException",
     "evalue": "Message: no such element: Unable to locate element: {\"method\":\"css selector\",\"selector\":\"div.title--wrap--UUHae_g [data-pl=\"product-title\"]\"}\n  (Session info: chrome=135.0.7049.115); For documentation on this error, please visit: https://www.selenium.dev/documentation/webdriver/troubleshooting/errors#no-such-element-exception\nStacktrace:\n\tGetHandleVerifier [0x00007FF7A33CEFA5+77893]\n\tGetHandleVerifier [0x00007FF7A33CF000+77984]\n\t(No symbol) [0x00007FF7A31991BA]\n\t(No symbol) [0x00007FF7A31EF16D]\n\t(No symbol) [0x00007FF7A31EF41C]\n\t(No symbol) [0x00007FF7A3242237]\n\t(No symbol) [0x00007FF7A321716F]\n\t(No symbol) [0x00007FF7A323F07F]\n\t(No symbol) [0x00007FF7A3216F03]\n\t(No symbol) [0x00007FF7A31E0328]\n\t(No symbol) [0x00007FF7A31E1093]\n\tGetHandleVerifier [0x00007FF7A3687B6D+2931725]\n\tGetHandleVerifier [0x00007FF7A3682132+2908626]\n\tGetHandleVerifier [0x00007FF7A36A00F3+3031443]\n\tGetHandleVerifier [0x00007FF7A33E91EA+184970]\n\tGetHandleVerifier [0x00007FF7A33F086F+215311]\n\tGetHandleVerifier [0x00007FF7A33D6EC4+110436]\n\tGetHandleVerifier [0x00007FF7A33D7072+110866]\n\tGetHandleVerifier [0x00007FF7A33BD479+5401]\n\tBaseThreadInitThunk [0x00007FFE1A7F7374+20]\n\tRtlUserThreadStart [0x00007FFE1BBBCC91+33]\n",
     "output_type": "error",
     "traceback": [
      "\u001b[1;31m---------------------------------------------------------------------------\u001b[0m",
      "\u001b[1;31mNoSuchElementException\u001b[0m                    Traceback (most recent call last)",
      "Cell \u001b[1;32mIn[12], line 6\u001b[0m\n\u001b[0;32m      3\u001b[0m \u001b[38;5;28;01mfor\u001b[39;00m prod_link \u001b[38;5;129;01min\u001b[39;00m products_links:\n\u001b[0;32m      4\u001b[0m     driver\u001b[38;5;241m.\u001b[39mget(prod_link)\n\u001b[1;32m----> 6\u001b[0m     name\u001b[38;5;241m=\u001b[39m\u001b[43mdriver\u001b[49m\u001b[38;5;241;43m.\u001b[39;49m\u001b[43mfind_element\u001b[49m\u001b[43m(\u001b[49m\u001b[43mby\u001b[49m\u001b[38;5;241;43m=\u001b[39;49m\u001b[43mBy\u001b[49m\u001b[38;5;241;43m.\u001b[39;49m\u001b[43mCSS_SELECTOR\u001b[49m\u001b[43m,\u001b[49m\u001b[43mvalue\u001b[49m\u001b[38;5;241;43m=\u001b[39;49m\u001b[38;5;124;43m'\u001b[39;49m\u001b[38;5;124;43mdiv.title--wrap--UUHae_g [data-pl=\u001b[39;49m\u001b[38;5;124;43m\"\u001b[39;49m\u001b[38;5;124;43mproduct-title\u001b[39;49m\u001b[38;5;124;43m\"\u001b[39;49m\u001b[38;5;124;43m]\u001b[39;49m\u001b[38;5;124;43m'\u001b[39;49m\u001b[43m)\u001b[49m\u001b[38;5;241m.\u001b[39mtext\n\u001b[0;32m      8\u001b[0m     price\u001b[38;5;241m=\u001b[39mdriver\u001b[38;5;241m.\u001b[39mfind_element(by\u001b[38;5;241m=\u001b[39mBy\u001b[38;5;241m.\u001b[39mCSS_SELECTOR,value\u001b[38;5;241m=\u001b[39m\u001b[38;5;124m'\u001b[39m\u001b[38;5;124m[data-pl=\u001b[39m\u001b[38;5;124m\"\u001b[39m\u001b[38;5;124mproduct-price\u001b[39m\u001b[38;5;124m\"\u001b[39m\u001b[38;5;124m] div span\u001b[39m\u001b[38;5;124m'\u001b[39m)\u001b[38;5;241m.\u001b[39mtext\n\u001b[0;32m     10\u001b[0m     imgs\u001b[38;5;241m=\u001b[39mdriver\u001b[38;5;241m.\u001b[39mfind_elements(by\u001b[38;5;241m=\u001b[39mBy\u001b[38;5;241m.\u001b[39mCSS_SELECTOR,value\u001b[38;5;241m=\u001b[39m\u001b[38;5;124m'\u001b[39m\u001b[38;5;124mdiv div.slider--item--RpyeewA div img\u001b[39m\u001b[38;5;124m'\u001b[39m)\n",
      "File \u001b[1;32m~\\AppData\\Local\\Programs\\Python\\Python312\\Lib\\site-packages\\selenium\\webdriver\\remote\\webdriver.py:888\u001b[0m, in \u001b[0;36mWebDriver.find_element\u001b[1;34m(self, by, value)\u001b[0m\n\u001b[0;32m    885\u001b[0m         \u001b[38;5;28;01mraise\u001b[39;00m NoSuchElementException(\u001b[38;5;124mf\u001b[39m\u001b[38;5;124m\"\u001b[39m\u001b[38;5;124mCannot locate relative element with: \u001b[39m\u001b[38;5;132;01m{\u001b[39;00mby\u001b[38;5;241m.\u001b[39mroot\u001b[38;5;132;01m}\u001b[39;00m\u001b[38;5;124m\"\u001b[39m)\n\u001b[0;32m    886\u001b[0m     \u001b[38;5;28;01mreturn\u001b[39;00m elements[\u001b[38;5;241m0\u001b[39m]\n\u001b[1;32m--> 888\u001b[0m \u001b[38;5;28;01mreturn\u001b[39;00m \u001b[38;5;28;43mself\u001b[39;49m\u001b[38;5;241;43m.\u001b[39;49m\u001b[43mexecute\u001b[49m\u001b[43m(\u001b[49m\u001b[43mCommand\u001b[49m\u001b[38;5;241;43m.\u001b[39;49m\u001b[43mFIND_ELEMENT\u001b[49m\u001b[43m,\u001b[49m\u001b[43m \u001b[49m\u001b[43m{\u001b[49m\u001b[38;5;124;43m\"\u001b[39;49m\u001b[38;5;124;43musing\u001b[39;49m\u001b[38;5;124;43m\"\u001b[39;49m\u001b[43m:\u001b[49m\u001b[43m \u001b[49m\u001b[43mby\u001b[49m\u001b[43m,\u001b[49m\u001b[43m \u001b[49m\u001b[38;5;124;43m\"\u001b[39;49m\u001b[38;5;124;43mvalue\u001b[39;49m\u001b[38;5;124;43m\"\u001b[39;49m\u001b[43m:\u001b[49m\u001b[43m \u001b[49m\u001b[43mvalue\u001b[49m\u001b[43m}\u001b[49m\u001b[43m)\u001b[49m[\u001b[38;5;124m\"\u001b[39m\u001b[38;5;124mvalue\u001b[39m\u001b[38;5;124m\"\u001b[39m]\n",
      "File \u001b[1;32m~\\AppData\\Local\\Programs\\Python\\Python312\\Lib\\site-packages\\selenium\\webdriver\\remote\\webdriver.py:429\u001b[0m, in \u001b[0;36mWebDriver.execute\u001b[1;34m(self, driver_command, params)\u001b[0m\n\u001b[0;32m    427\u001b[0m response \u001b[38;5;241m=\u001b[39m \u001b[38;5;28mself\u001b[39m\u001b[38;5;241m.\u001b[39mcommand_executor\u001b[38;5;241m.\u001b[39mexecute(driver_command, params)\n\u001b[0;32m    428\u001b[0m \u001b[38;5;28;01mif\u001b[39;00m response:\n\u001b[1;32m--> 429\u001b[0m     \u001b[38;5;28;43mself\u001b[39;49m\u001b[38;5;241;43m.\u001b[39;49m\u001b[43merror_handler\u001b[49m\u001b[38;5;241;43m.\u001b[39;49m\u001b[43mcheck_response\u001b[49m\u001b[43m(\u001b[49m\u001b[43mresponse\u001b[49m\u001b[43m)\u001b[49m\n\u001b[0;32m    430\u001b[0m     response[\u001b[38;5;124m\"\u001b[39m\u001b[38;5;124mvalue\u001b[39m\u001b[38;5;124m\"\u001b[39m] \u001b[38;5;241m=\u001b[39m \u001b[38;5;28mself\u001b[39m\u001b[38;5;241m.\u001b[39m_unwrap_value(response\u001b[38;5;241m.\u001b[39mget(\u001b[38;5;124m\"\u001b[39m\u001b[38;5;124mvalue\u001b[39m\u001b[38;5;124m\"\u001b[39m, \u001b[38;5;28;01mNone\u001b[39;00m))\n\u001b[0;32m    431\u001b[0m     \u001b[38;5;28;01mreturn\u001b[39;00m response\n",
      "File \u001b[1;32m~\\AppData\\Local\\Programs\\Python\\Python312\\Lib\\site-packages\\selenium\\webdriver\\remote\\errorhandler.py:232\u001b[0m, in \u001b[0;36mErrorHandler.check_response\u001b[1;34m(self, response)\u001b[0m\n\u001b[0;32m    230\u001b[0m         alert_text \u001b[38;5;241m=\u001b[39m value[\u001b[38;5;124m\"\u001b[39m\u001b[38;5;124malert\u001b[39m\u001b[38;5;124m\"\u001b[39m]\u001b[38;5;241m.\u001b[39mget(\u001b[38;5;124m\"\u001b[39m\u001b[38;5;124mtext\u001b[39m\u001b[38;5;124m\"\u001b[39m)\n\u001b[0;32m    231\u001b[0m     \u001b[38;5;28;01mraise\u001b[39;00m exception_class(message, screen, stacktrace, alert_text)  \u001b[38;5;66;03m# type: ignore[call-arg]  # mypy is not smart enough here\u001b[39;00m\n\u001b[1;32m--> 232\u001b[0m \u001b[38;5;28;01mraise\u001b[39;00m exception_class(message, screen, stacktrace)\n",
      "\u001b[1;31mNoSuchElementException\u001b[0m: Message: no such element: Unable to locate element: {\"method\":\"css selector\",\"selector\":\"div.title--wrap--UUHae_g [data-pl=\"product-title\"]\"}\n  (Session info: chrome=135.0.7049.115); For documentation on this error, please visit: https://www.selenium.dev/documentation/webdriver/troubleshooting/errors#no-such-element-exception\nStacktrace:\n\tGetHandleVerifier [0x00007FF7A33CEFA5+77893]\n\tGetHandleVerifier [0x00007FF7A33CF000+77984]\n\t(No symbol) [0x00007FF7A31991BA]\n\t(No symbol) [0x00007FF7A31EF16D]\n\t(No symbol) [0x00007FF7A31EF41C]\n\t(No symbol) [0x00007FF7A3242237]\n\t(No symbol) [0x00007FF7A321716F]\n\t(No symbol) [0x00007FF7A323F07F]\n\t(No symbol) [0x00007FF7A3216F03]\n\t(No symbol) [0x00007FF7A31E0328]\n\t(No symbol) [0x00007FF7A31E1093]\n\tGetHandleVerifier [0x00007FF7A3687B6D+2931725]\n\tGetHandleVerifier [0x00007FF7A3682132+2908626]\n\tGetHandleVerifier [0x00007FF7A36A00F3+3031443]\n\tGetHandleVerifier [0x00007FF7A33E91EA+184970]\n\tGetHandleVerifier [0x00007FF7A33F086F+215311]\n\tGetHandleVerifier [0x00007FF7A33D6EC4+110436]\n\tGetHandleVerifier [0x00007FF7A33D7072+110866]\n\tGetHandleVerifier [0x00007FF7A33BD479+5401]\n\tBaseThreadInitThunk [0x00007FFE1A7F7374+20]\n\tRtlUserThreadStart [0x00007FFE1BBBCC91+33]\n"
     ]
    }
   ],
   "source": [
    "data=[]\n",
    "\n",
    "for prod_link in products_links:\n",
    "    driver.get(prod_link)\n",
    "    \n",
    "    name=driver.find_element(by=By.CSS_SELECTOR,value='div.title--wrap--UUHae_g [data-pl=\"product-title\"]').text\n",
    "\n",
    "    price=driver.find_element(by=By.CSS_SELECTOR,value='[data-pl=\"product-price\"] div span').text\n",
    "\n",
    "    imgs=driver.find_elements(by=By.CSS_SELECTOR,value='div div.slider--item--RpyeewA div img')\n",
    "    img_links=[img_link.get_attribute('src') for i,img_link in enumerate(imgs) if i<5]\n",
    "    \n",
    "    try:\n",
    "        driver.find_element(by=By.XPATH,value='//*[@id=\"nav-specification\"]/button').click()\n",
    "    except:\n",
    "        pass\n",
    "    details=[]\n",
    "    keys=driver.find_elements(by=By.CSS_SELECTOR,value='ul.specification--list--GZuXzRX li div div.specification--title--SfH3sA8')\n",
    "    values=driver.find_elements(by=By.CSS_SELECTOR,value='ul.specification--list--GZuXzRX li div div.specification--desc--Dxx6W0W')\n",
    "\n",
    "    for key,value in zip(keys,values):\n",
    "        details.append(key.text)\n",
    "        details.append(value.text)\n",
    "        \n",
    "    data.append({\"Name\":name,\"Price\":price,\"Images\":','.join(img_links),\"Details\":details})\n",
    "\n",
    "    # for k in range(2,8):\n",
    "    #     driver.find_element(by=By.XPATH,value='//*[@id=\"root\"]/div[1]/div/div/div[2]/ul/li[10]/div/input').send_keys()"
   ]
  },
  {
   "cell_type": "code",
   "execution_count": 13,
   "id": "de7e682c-92a0-4146-8703-473c6fdfc7c2",
   "metadata": {},
   "outputs": [],
   "source": [
    "df=pd.DataFrame(data)\n",
    "df.to_csv(f\"couch.csv\", index=False)"
   ]
  },
  {
   "cell_type": "code",
   "execution_count": 38,
   "id": "cdfcbfb9-a0d4-4b9a-aa36-1230917e3672",
   "metadata": {},
   "outputs": [],
   "source": [
    "driver.get(products_links[0])"
   ]
  },
  {
   "cell_type": "code",
   "execution_count": 31,
   "id": "3af4aa54-9ab9-4eae-8249-1b816ee793c2",
   "metadata": {},
   "outputs": [
    {
     "data": {
      "text/plain": [
       "'Stainless Steel Wok Rack Pans Skillet Nonstick Cooking Pot Coating Honeycomb Everyday Traditional'"
      ]
     },
     "execution_count": 31,
     "metadata": {},
     "output_type": "execute_result"
    }
   ],
   "source": [
    "driver.find_element(by=By.CSS_SELECTOR,value='div.title--wrap--UUHae_g [data-pl=\"product-title\"]').text"
   ]
  },
  {
   "cell_type": "code",
   "execution_count": 32,
   "id": "f67ac141-2542-47d8-83f2-bb1ff2e6c67a",
   "metadata": {},
   "outputs": [
    {
     "data": {
      "text/plain": [
       "'PKR1,850'"
      ]
     },
     "execution_count": 32,
     "metadata": {},
     "output_type": "execute_result"
    }
   ],
   "source": [
    "driver.find_element(by=By.CSS_SELECTOR,value='[data-pl=\"product-price\"] div span').text"
   ]
  },
  {
   "cell_type": "code",
   "execution_count": 36,
   "id": "e79b7a9a-b1ec-446a-8b46-88ef360d3d23",
   "metadata": {},
   "outputs": [],
   "source": [
    "imgs=driver.find_elements(by=By.CSS_SELECTOR,value='div div.slider--item--RpyeewA div img')"
   ]
  },
  {
   "cell_type": "code",
   "execution_count": 40,
   "id": "0407c31b-c322-4d8c-b7df-b5d2adf6f795",
   "metadata": {},
   "outputs": [],
   "source": [
    "img_links=[img_link.get_attribute('src') for i,img_link in enumerate(imgs) if i<5]"
   ]
  },
  {
   "cell_type": "code",
   "execution_count": 41,
   "id": "c72a0413-7425-47d6-b7cd-0f95cb78af99",
   "metadata": {},
   "outputs": [
    {
     "data": {
      "text/plain": [
       "['https://ae-pic-a1.aliexpress-media.com/kf/Sd66bc75286db4e3f9384b7063d12a7e3t.jpg_220x220q75.jpg_.avif',\n",
       " 'https://ae-pic-a1.aliexpress-media.com/kf/S74c37f7b9f2040d5af9d24679392ffd4P.jpg_220x220q75.jpg_.avif',\n",
       " 'https://ae-pic-a1.aliexpress-media.com/kf/S5fe270cc5d0f4e218a8099d0695066e93.jpg_220x220q75.jpg_.avif',\n",
       " 'https://ae-pic-a1.aliexpress-media.com/kf/S9dfa8f3d74354b90ba79affc96baeec8m.jpg_220x220q75.jpg_.avif',\n",
       " 'https://ae-pic-a1.aliexpress-media.com/kf/Sf849e903f49a4c188a19e43baebcd521k.jpg_220x220q75.jpg_.avif']"
      ]
     },
     "execution_count": 41,
     "metadata": {},
     "output_type": "execute_result"
    }
   ],
   "source": [
    "img_links"
   ]
  },
  {
   "cell_type": "code",
   "execution_count": 44,
   "id": "ca995c53-55a8-4cc4-9741-975da2e0e6d0",
   "metadata": {},
   "outputs": [],
   "source": [
    "keys=driver.find_elements(by=By.CSS_SELECTOR,value='ul.specification--list--GZuXzRX li div div.specification--title--SfH3sA8')"
   ]
  },
  {
   "cell_type": "code",
   "execution_count": 45,
   "id": "f66d970a-133c-4f44-98e0-be938f293bd3",
   "metadata": {},
   "outputs": [
    {
     "data": {
      "text/plain": [
       "13"
      ]
     },
     "execution_count": 45,
     "metadata": {},
     "output_type": "execute_result"
    }
   ],
   "source": [
    "len(keys)"
   ]
  },
  {
   "cell_type": "code",
   "execution_count": 46,
   "id": "7325aa14-da3e-4b59-ba63-4c6e77938ece",
   "metadata": {},
   "outputs": [],
   "source": [
    "values=driver.find_elements(by=By.CSS_SELECTOR,value='ul.specification--list--GZuXzRX li div div.specification--desc--Dxx6W0W')"
   ]
  },
  {
   "cell_type": "code",
   "execution_count": 47,
   "id": "5c3ed747-4fcd-4b92-847c-3744fe4d57a8",
   "metadata": {},
   "outputs": [
    {
     "data": {
      "text/plain": [
       "13"
      ]
     },
     "execution_count": 47,
     "metadata": {},
     "output_type": "execute_result"
    }
   ],
   "source": [
    "len(values)"
   ]
  },
  {
   "cell_type": "code",
   "execution_count": 81,
   "id": "d73ff25e-d85c-4081-b3ff-fe33564993fb",
   "metadata": {},
   "outputs": [
    {
     "name": "stdout",
     "output_type": "stream",
     "text": [
      "1\n",
      "2\n",
      "3\n",
      "4\n"
     ]
    },
    {
     "ename": "NoSuchElementException",
     "evalue": "Message: no such element: Unable to locate element: {\"method\":\"xpath\",\"selector\":\"//*[@id=\"root\"]/div[1]/div/div/div[2]/ul/li[10]/div/input\"}\n  (Session info: chrome=135.0.7049.115); For documentation on this error, please visit: https://www.selenium.dev/documentation/webdriver/troubleshooting/errors#no-such-element-exception\nStacktrace:\n\tGetHandleVerifier [0x00007FF71A42EFA5+77893]\n\tGetHandleVerifier [0x00007FF71A42F000+77984]\n\t(No symbol) [0x00007FF71A1F91BA]\n\t(No symbol) [0x00007FF71A24F16D]\n\t(No symbol) [0x00007FF71A24F41C]\n\t(No symbol) [0x00007FF71A2A2237]\n\t(No symbol) [0x00007FF71A27716F]\n\t(No symbol) [0x00007FF71A29F07F]\n\t(No symbol) [0x00007FF71A276F03]\n\t(No symbol) [0x00007FF71A240328]\n\t(No symbol) [0x00007FF71A241093]\n\tGetHandleVerifier [0x00007FF71A6E7B6D+2931725]\n\tGetHandleVerifier [0x00007FF71A6E2132+2908626]\n\tGetHandleVerifier [0x00007FF71A7000F3+3031443]\n\tGetHandleVerifier [0x00007FF71A4491EA+184970]\n\tGetHandleVerifier [0x00007FF71A45086F+215311]\n\tGetHandleVerifier [0x00007FF71A436EC4+110436]\n\tGetHandleVerifier [0x00007FF71A437072+110866]\n\tGetHandleVerifier [0x00007FF71A41D479+5401]\n\tBaseThreadInitThunk [0x00007FFE1A7F7374+20]\n\tRtlUserThreadStart [0x00007FFE1BBBCC91+33]\n",
     "output_type": "error",
     "traceback": [
      "\u001b[1;31m---------------------------------------------------------------------------\u001b[0m",
      "\u001b[1;31mNoSuchElementException\u001b[0m                    Traceback (most recent call last)",
      "Cell \u001b[1;32mIn[81], line 2\u001b[0m\n\u001b[0;32m      1\u001b[0m \u001b[38;5;28;01mfor\u001b[39;00m i \u001b[38;5;129;01min\u001b[39;00m \u001b[38;5;28mrange\u001b[39m(\u001b[38;5;241m1\u001b[39m,\u001b[38;5;241m9\u001b[39m):\n\u001b[1;32m----> 2\u001b[0m     page\u001b[38;5;241m=\u001b[39m\u001b[43mdriver\u001b[49m\u001b[38;5;241;43m.\u001b[39;49m\u001b[43mfind_element\u001b[49m\u001b[43m(\u001b[49m\u001b[43mby\u001b[49m\u001b[38;5;241;43m=\u001b[39;49m\u001b[43mBy\u001b[49m\u001b[38;5;241;43m.\u001b[39;49m\u001b[43mXPATH\u001b[49m\u001b[43m,\u001b[49m\u001b[43mvalue\u001b[49m\u001b[38;5;241;43m=\u001b[39;49m\u001b[38;5;124;43m'\u001b[39;49m\u001b[38;5;124;43m//*[@id=\u001b[39;49m\u001b[38;5;124;43m\"\u001b[39;49m\u001b[38;5;124;43mroot\u001b[39;49m\u001b[38;5;124;43m\"\u001b[39;49m\u001b[38;5;124;43m]/div[1]/div/div/div[2]/ul/li[10]/div/input\u001b[39;49m\u001b[38;5;124;43m'\u001b[39;49m\u001b[43m)\u001b[49m\n\u001b[0;32m      3\u001b[0m     \u001b[38;5;66;03m# //*[@id=\"root\"]/div[1]/div/div/div[2]/ul/li[11]/div/input\u001b[39;00m\n\u001b[0;32m      4\u001b[0m     \u001b[38;5;66;03m# //*[@id=\"root\"]/div[1]/div/div/div[2]/ul/li[12]/div/input\u001b[39;00m\n\u001b[0;32m      5\u001b[0m     page\u001b[38;5;241m.\u001b[39msend_keys(i)\n",
      "File \u001b[1;32m~\\AppData\\Local\\Programs\\Python\\Python312\\Lib\\site-packages\\selenium\\webdriver\\remote\\webdriver.py:888\u001b[0m, in \u001b[0;36mWebDriver.find_element\u001b[1;34m(self, by, value)\u001b[0m\n\u001b[0;32m    885\u001b[0m         \u001b[38;5;28;01mraise\u001b[39;00m NoSuchElementException(\u001b[38;5;124mf\u001b[39m\u001b[38;5;124m\"\u001b[39m\u001b[38;5;124mCannot locate relative element with: \u001b[39m\u001b[38;5;132;01m{\u001b[39;00mby\u001b[38;5;241m.\u001b[39mroot\u001b[38;5;132;01m}\u001b[39;00m\u001b[38;5;124m\"\u001b[39m)\n\u001b[0;32m    886\u001b[0m     \u001b[38;5;28;01mreturn\u001b[39;00m elements[\u001b[38;5;241m0\u001b[39m]\n\u001b[1;32m--> 888\u001b[0m \u001b[38;5;28;01mreturn\u001b[39;00m \u001b[38;5;28;43mself\u001b[39;49m\u001b[38;5;241;43m.\u001b[39;49m\u001b[43mexecute\u001b[49m\u001b[43m(\u001b[49m\u001b[43mCommand\u001b[49m\u001b[38;5;241;43m.\u001b[39;49m\u001b[43mFIND_ELEMENT\u001b[49m\u001b[43m,\u001b[49m\u001b[43m \u001b[49m\u001b[43m{\u001b[49m\u001b[38;5;124;43m\"\u001b[39;49m\u001b[38;5;124;43musing\u001b[39;49m\u001b[38;5;124;43m\"\u001b[39;49m\u001b[43m:\u001b[49m\u001b[43m \u001b[49m\u001b[43mby\u001b[49m\u001b[43m,\u001b[49m\u001b[43m \u001b[49m\u001b[38;5;124;43m\"\u001b[39;49m\u001b[38;5;124;43mvalue\u001b[39;49m\u001b[38;5;124;43m\"\u001b[39;49m\u001b[43m:\u001b[49m\u001b[43m \u001b[49m\u001b[43mvalue\u001b[49m\u001b[43m}\u001b[49m\u001b[43m)\u001b[49m[\u001b[38;5;124m\"\u001b[39m\u001b[38;5;124mvalue\u001b[39m\u001b[38;5;124m\"\u001b[39m]\n",
      "File \u001b[1;32m~\\AppData\\Local\\Programs\\Python\\Python312\\Lib\\site-packages\\selenium\\webdriver\\remote\\webdriver.py:429\u001b[0m, in \u001b[0;36mWebDriver.execute\u001b[1;34m(self, driver_command, params)\u001b[0m\n\u001b[0;32m    427\u001b[0m response \u001b[38;5;241m=\u001b[39m \u001b[38;5;28mself\u001b[39m\u001b[38;5;241m.\u001b[39mcommand_executor\u001b[38;5;241m.\u001b[39mexecute(driver_command, params)\n\u001b[0;32m    428\u001b[0m \u001b[38;5;28;01mif\u001b[39;00m response:\n\u001b[1;32m--> 429\u001b[0m     \u001b[38;5;28;43mself\u001b[39;49m\u001b[38;5;241;43m.\u001b[39;49m\u001b[43merror_handler\u001b[49m\u001b[38;5;241;43m.\u001b[39;49m\u001b[43mcheck_response\u001b[49m\u001b[43m(\u001b[49m\u001b[43mresponse\u001b[49m\u001b[43m)\u001b[49m\n\u001b[0;32m    430\u001b[0m     response[\u001b[38;5;124m\"\u001b[39m\u001b[38;5;124mvalue\u001b[39m\u001b[38;5;124m\"\u001b[39m] \u001b[38;5;241m=\u001b[39m \u001b[38;5;28mself\u001b[39m\u001b[38;5;241m.\u001b[39m_unwrap_value(response\u001b[38;5;241m.\u001b[39mget(\u001b[38;5;124m\"\u001b[39m\u001b[38;5;124mvalue\u001b[39m\u001b[38;5;124m\"\u001b[39m, \u001b[38;5;28;01mNone\u001b[39;00m))\n\u001b[0;32m    431\u001b[0m     \u001b[38;5;28;01mreturn\u001b[39;00m response\n",
      "File \u001b[1;32m~\\AppData\\Local\\Programs\\Python\\Python312\\Lib\\site-packages\\selenium\\webdriver\\remote\\errorhandler.py:232\u001b[0m, in \u001b[0;36mErrorHandler.check_response\u001b[1;34m(self, response)\u001b[0m\n\u001b[0;32m    230\u001b[0m         alert_text \u001b[38;5;241m=\u001b[39m value[\u001b[38;5;124m\"\u001b[39m\u001b[38;5;124malert\u001b[39m\u001b[38;5;124m\"\u001b[39m]\u001b[38;5;241m.\u001b[39mget(\u001b[38;5;124m\"\u001b[39m\u001b[38;5;124mtext\u001b[39m\u001b[38;5;124m\"\u001b[39m)\n\u001b[0;32m    231\u001b[0m     \u001b[38;5;28;01mraise\u001b[39;00m exception_class(message, screen, stacktrace, alert_text)  \u001b[38;5;66;03m# type: ignore[call-arg]  # mypy is not smart enough here\u001b[39;00m\n\u001b[1;32m--> 232\u001b[0m \u001b[38;5;28;01mraise\u001b[39;00m exception_class(message, screen, stacktrace)\n",
      "\u001b[1;31mNoSuchElementException\u001b[0m: Message: no such element: Unable to locate element: {\"method\":\"xpath\",\"selector\":\"//*[@id=\"root\"]/div[1]/div/div/div[2]/ul/li[10]/div/input\"}\n  (Session info: chrome=135.0.7049.115); For documentation on this error, please visit: https://www.selenium.dev/documentation/webdriver/troubleshooting/errors#no-such-element-exception\nStacktrace:\n\tGetHandleVerifier [0x00007FF71A42EFA5+77893]\n\tGetHandleVerifier [0x00007FF71A42F000+77984]\n\t(No symbol) [0x00007FF71A1F91BA]\n\t(No symbol) [0x00007FF71A24F16D]\n\t(No symbol) [0x00007FF71A24F41C]\n\t(No symbol) [0x00007FF71A2A2237]\n\t(No symbol) [0x00007FF71A27716F]\n\t(No symbol) [0x00007FF71A29F07F]\n\t(No symbol) [0x00007FF71A276F03]\n\t(No symbol) [0x00007FF71A240328]\n\t(No symbol) [0x00007FF71A241093]\n\tGetHandleVerifier [0x00007FF71A6E7B6D+2931725]\n\tGetHandleVerifier [0x00007FF71A6E2132+2908626]\n\tGetHandleVerifier [0x00007FF71A7000F3+3031443]\n\tGetHandleVerifier [0x00007FF71A4491EA+184970]\n\tGetHandleVerifier [0x00007FF71A45086F+215311]\n\tGetHandleVerifier [0x00007FF71A436EC4+110436]\n\tGetHandleVerifier [0x00007FF71A437072+110866]\n\tGetHandleVerifier [0x00007FF71A41D479+5401]\n\tBaseThreadInitThunk [0x00007FFE1A7F7374+20]\n\tRtlUserThreadStart [0x00007FFE1BBBCC91+33]\n"
     ]
    }
   ],
   "source": [
    "for i in range(1,9):\n",
    "    page=driver.find_element(by=By.XPATH,value='//*[@id=\"root\"]/div[1]/div/div/div[2]/ul/li[10]/div/input')\n",
    "    # //*[@id=\"root\"]/div[1]/div/div/div[2]/ul/li[11]/div/input\n",
    "    # //*[@id=\"root\"]/div[1]/div/div/div[2]/ul/li[12]/div/input\n",
    "    page.send_keys(i)\n",
    "    page.send_keys(Keys.ENTER)\n",
    "    print(i)\n",
    "    time.sleep(10)"
   ]
  }
 ],
 "metadata": {
  "kernelspec": {
   "display_name": "Python 3 (ipykernel)",
   "language": "python",
   "name": "python3"
  },
  "language_info": {
   "codemirror_mode": {
    "name": "ipython",
    "version": 3
   },
   "file_extension": ".py",
   "mimetype": "text/x-python",
   "name": "python",
   "nbconvert_exporter": "python",
   "pygments_lexer": "ipython3",
   "version": "3.12.8"
  }
 },
 "nbformat": 4,
 "nbformat_minor": 5
}
