{
 "cells": [
  {
   "cell_type": "code",
   "execution_count": 122,
   "id": "13a6d7fd",
   "metadata": {},
   "outputs": [],
   "source": [
    "from selenium import webdriver\n",
    "from selenium.webdriver.common.by import By\n",
    "from selenium.webdriver.common.keys import Keys\n",
    "import time\n",
    "from selenium.webdriver.support.ui import WebDriverWait\n",
    "from selenium.webdriver.support import expected_conditions as EC\n",
    "from selenium.common.exceptions import NoSuchElementException"
   ]
  },
  {
   "cell_type": "code",
   "execution_count": 254,
   "id": "6a262adb",
   "metadata": {},
   "outputs": [],
   "source": [
    "driver=webdriver.Chrome()\n",
    "driver.get(\"https://www.bellewholesale.com/en/\")\n",
    "wait = WebDriverWait(driver, 30)"
   ]
  },
  {
   "cell_type": "code",
   "execution_count": 255,
   "id": "39e5b5f8",
   "metadata": {},
   "outputs": [],
   "source": [
    "wait.until(\n",
    "    EC.visibility_of_element_located((By.XPATH,'//*[@id=\"root\"]/div[5]/div/span'))).click()"
   ]
  },
  {
   "cell_type": "code",
   "execution_count": 160,
   "id": "d8f40088",
   "metadata": {},
   "outputs": [],
   "source": [
    "tops_category=driver.find_element(by=By.XPATH,value='//*[@id=\"root\"]/div[1]/div[1]/header/div[2]/div/div/nav/div[1]/div/div[3]/a')\n",
    "tops_category.click()"
   ]
  },
  {
   "cell_type": "code",
   "execution_count": 167,
   "id": "a420be46",
   "metadata": {},
   "outputs": [],
   "source": [
    "dress_category=driver.find_element(by=By.XPATH,value='//*[@id=\"root\"]/div[1]/div[1]/header/div[2]/div/div/nav/div[1]/div/div[4]/a')\n",
    "dress_category.click()"
   ]
  },
  {
   "cell_type": "code",
   "execution_count": 179,
   "id": "542e3d25",
   "metadata": {},
   "outputs": [],
   "source": [
    "shoes_category=driver.find_element(by=By.XPATH,value='//*[@id=\"root\"]/div[1]/div[1]/header/div[2]/div/div/nav/div[1]/div/div[5]/a')\n",
    "shoes_category.click()"
   ]
  },
  {
   "cell_type": "code",
   "execution_count": 188,
   "id": "caff2d47",
   "metadata": {},
   "outputs": [],
   "source": [
    "two_pieces=driver.find_element(by=By.XPATH,value='//*[@id=\"module-2\"]/div/div[2]/a[3]')\n",
    "two_pieces.click()"
   ]
  },
  {
   "cell_type": "code",
   "execution_count": 218,
   "id": "821b6bb6",
   "metadata": {},
   "outputs": [],
   "source": [
    "lingrie=driver.find_element(by=By.XPATH,value='//*[@id=\"root\"]/div[1]/div[1]/header/div[2]/div/div/nav/div[1]/div/div[7]/a')\n",
    "lingrie.click()"
   ]
  },
  {
   "cell_type": "code",
   "execution_count": 227,
   "id": "f8b81202",
   "metadata": {},
   "outputs": [],
   "source": [
    "bottoms=driver.find_element(by=By.XPATH,value='//*[@id=\"root\"]/div[1]/div[1]/header/div[2]/div/div/nav/div[1]/div/div[8]/a')\n",
    "bottoms.click()"
   ]
  },
  {
   "cell_type": "code",
   "execution_count": 247,
   "id": "18135318",
   "metadata": {},
   "outputs": [],
   "source": [
    "accesories=driver.find_element(by=By.XPATH,value='//*[@id=\"module-2\"]/div/div[2]/a[7]')\n",
    "accesories.click()"
   ]
  },
  {
   "cell_type": "code",
   "execution_count": 256,
   "id": "bb591c31",
   "metadata": {},
   "outputs": [],
   "source": [
    "plus_size=driver.find_element(by=By.XPATH,value='//*[@id=\"module-2\"]/div/div[2]/a[8]')\n",
    "plus_size.click()"
   ]
  },
  {
   "cell_type": "code",
   "execution_count": 257,
   "id": "4ea1911e",
   "metadata": {},
   "outputs": [],
   "source": [
    "products=driver.find_elements(by=By.CSS_SELECTOR,value='div._2qNZ-Zg7WdKX9O8pWjNhK8 figure a')"
   ]
  },
  {
   "cell_type": "code",
   "execution_count": 258,
   "id": "9af8c681",
   "metadata": {},
   "outputs": [
    {
     "data": {
      "text/plain": [
       "192"
      ]
     },
     "execution_count": 258,
     "metadata": {},
     "output_type": "execute_result"
    }
   ],
   "source": [
    "len(products)"
   ]
  },
  {
   "cell_type": "code",
   "execution_count": 259,
   "id": "a38a1981",
   "metadata": {},
   "outputs": [],
   "source": [
    "products_links=[link.get_attribute(\"href\") for link in products if link.get_attribute(\"product-id\")]"
   ]
  },
  {
   "cell_type": "code",
   "execution_count": 260,
   "id": "1ea142d6",
   "metadata": {},
   "outputs": [
    {
     "data": {
      "text/plain": [
       "100"
      ]
     },
     "execution_count": 260,
     "metadata": {},
     "output_type": "execute_result"
    }
   ],
   "source": [
    "len(products_links)"
   ]
  },
  {
   "cell_type": "code",
   "execution_count": 261,
   "id": "c115f2fa",
   "metadata": {},
   "outputs": [
    {
     "name": "stdout",
     "output_type": "stream",
     "text": [
      "0    single color\n",
      "1    single color\n",
      "2    multi color\n",
      "2    multi color\n",
      "3    multi color\n",
      "3    multi color\n",
      "3    multi color\n",
      "3    multi color\n",
      "3    multi color\n",
      "3    multi color\n",
      "3    multi color\n",
      "3    multi color\n",
      "3    multi color\n",
      "3    multi color\n",
      "3    multi color\n",
      "3    multi color\n",
      "3    multi color\n",
      "3    multi color\n",
      "3    multi color\n",
      "3    multi color\n",
      "4    multi color\n",
      "4    multi color\n",
      "5    multi color\n"
     ]
    },
    {
     "ename": "ElementClickInterceptedException",
     "evalue": "Message: element click intercepted: Element <a class=\"_2nACJZw2LTxrvR3R_Dlj8r _1ygziz5LDCJVBk60kY7FkP \" href=\"/product/o-neck-knit-sleeveless-basic-slim-fit-tummy-control-tank-casual-top/9b77efa5-05d7-43ff-8035-8a367f414329.html\">...</a> is not clickable at point (949, 106). Other element would receive the click: <div class=\"jEINn5zFiyhsMIRTCacc_ _3yK-HkxGeu11uT1QCL21r\">...</div>\n  (Session info: chrome=132.0.6834.160)\nStacktrace:\n\tGetHandleVerifier [0x00007FF7967202F5+28725]\n\t(No symbol) [0x00007FF796682AE0]\n\t(No symbol) [0x00007FF79651510A]\n\t(No symbol) [0x00007FF7965710F8]\n\t(No symbol) [0x00007FF79656EB42]\n\t(No symbol) [0x00007FF79656BC51]\n\t(No symbol) [0x00007FF79656ABB1]\n\t(No symbol) [0x00007FF79655C6B4]\n\t(No symbol) [0x00007FF79658FFAA]\n\t(No symbol) [0x00007FF79655BF86]\n\t(No symbol) [0x00007FF7965901C0]\n\t(No symbol) [0x00007FF7965B0181]\n\t(No symbol) [0x00007FF79658FD53]\n\t(No symbol) [0x00007FF79655A0E3]\n\t(No symbol) [0x00007FF79655B471]\n\tGetHandleVerifier [0x00007FF796A4F30D+3366989]\n\tGetHandleVerifier [0x00007FF796A612F0+3440688]\n\tGetHandleVerifier [0x00007FF796A578FD+3401277]\n\tGetHandleVerifier [0x00007FF7967EAAAB+858091]\n\t(No symbol) [0x00007FF79668E74F]\n\t(No symbol) [0x00007FF79668A304]\n\t(No symbol) [0x00007FF79668A49D]\n\t(No symbol) [0x00007FF796678B69]\n\tBaseThreadInitThunk [0x00007FFAC31C7374+20]\n\tRtlUserThreadStart [0x00007FFAC3F9CC91+33]\n",
     "output_type": "error",
     "traceback": [
      "\u001b[1;31m---------------------------------------------------------------------------\u001b[0m",
      "\u001b[1;31mElementClickInterceptedException\u001b[0m          Traceback (most recent call last)",
      "Input \u001b[1;32mIn [261]\u001b[0m, in \u001b[0;36m<cell line: 2>\u001b[1;34m()\u001b[0m\n\u001b[0;32m     22\u001b[0m colors_data\u001b[38;5;241m=\u001b[39m{}\n\u001b[0;32m     23\u001b[0m \u001b[38;5;28;01mfor\u001b[39;00m color \u001b[38;5;129;01min\u001b[39;00m product_colors:\n\u001b[1;32m---> 24\u001b[0m     \u001b[43mwait\u001b[49m\u001b[38;5;241;43m.\u001b[39;49m\u001b[43muntil\u001b[49m\u001b[43m(\u001b[49m\u001b[43mEC\u001b[49m\u001b[38;5;241;43m.\u001b[39;49m\u001b[43melement_to_be_clickable\u001b[49m\u001b[43m(\u001b[49m\u001b[43m(\u001b[49m\u001b[43mcolor\u001b[49m\u001b[43m)\u001b[49m\u001b[43m)\u001b[49m\u001b[43m)\u001b[49m\u001b[38;5;241;43m.\u001b[39;49m\u001b[43mclick\u001b[49m\u001b[43m(\u001b[49m\u001b[43m)\u001b[49m\n\u001b[0;32m     25\u001b[0m     color_name\u001b[38;5;241m=\u001b[39mdriver\u001b[38;5;241m.\u001b[39mfind_elements(by\u001b[38;5;241m=\u001b[39mBy\u001b[38;5;241m.\u001b[39mCSS_SELECTOR,value\u001b[38;5;241m=\u001b[39m\u001b[38;5;124m'\u001b[39m\u001b[38;5;124mdiv._1BI-yOdaWfkMT4sqjeFAdN span\u001b[39m\u001b[38;5;124m'\u001b[39m)\n\u001b[0;32m     26\u001b[0m     colour_name\u001b[38;5;241m=\u001b[39m(color_name[\u001b[38;5;241m-\u001b[39m\u001b[38;5;241m1\u001b[39m]\u001b[38;5;241m.\u001b[39mtext)\n",
      "File \u001b[1;32m~\\AppData\\Local\\Programs\\Python\\Python310\\lib\\site-packages\\selenium\\webdriver\\remote\\webelement.py:89\u001b[0m, in \u001b[0;36mWebElement.click\u001b[1;34m(self)\u001b[0m\n\u001b[0;32m     87\u001b[0m \u001b[38;5;28;01mdef\u001b[39;00m \u001b[38;5;21mclick\u001b[39m(\u001b[38;5;28mself\u001b[39m) \u001b[38;5;241m-\u001b[39m\u001b[38;5;241m>\u001b[39m \u001b[38;5;28;01mNone\u001b[39;00m:\n\u001b[0;32m     88\u001b[0m     \u001b[38;5;124;03m\"\"\"Clicks the element.\"\"\"\u001b[39;00m\n\u001b[1;32m---> 89\u001b[0m     \u001b[38;5;28;43mself\u001b[39;49m\u001b[38;5;241;43m.\u001b[39;49m\u001b[43m_execute\u001b[49m\u001b[43m(\u001b[49m\u001b[43mCommand\u001b[49m\u001b[38;5;241;43m.\u001b[39;49m\u001b[43mCLICK_ELEMENT\u001b[49m\u001b[43m)\u001b[49m\n",
      "File \u001b[1;32m~\\AppData\\Local\\Programs\\Python\\Python310\\lib\\site-packages\\selenium\\webdriver\\remote\\webelement.py:773\u001b[0m, in \u001b[0;36mWebElement._execute\u001b[1;34m(self, command, params)\u001b[0m\n\u001b[0;32m    771\u001b[0m     params \u001b[38;5;241m=\u001b[39m {}\n\u001b[0;32m    772\u001b[0m params[\u001b[38;5;124m'\u001b[39m\u001b[38;5;124mid\u001b[39m\u001b[38;5;124m'\u001b[39m] \u001b[38;5;241m=\u001b[39m \u001b[38;5;28mself\u001b[39m\u001b[38;5;241m.\u001b[39m_id\n\u001b[1;32m--> 773\u001b[0m \u001b[38;5;28;01mreturn\u001b[39;00m \u001b[38;5;28;43mself\u001b[39;49m\u001b[38;5;241;43m.\u001b[39;49m\u001b[43m_parent\u001b[49m\u001b[38;5;241;43m.\u001b[39;49m\u001b[43mexecute\u001b[49m\u001b[43m(\u001b[49m\u001b[43mcommand\u001b[49m\u001b[43m,\u001b[49m\u001b[43m \u001b[49m\u001b[43mparams\u001b[49m\u001b[43m)\u001b[49m\n",
      "File \u001b[1;32m~\\AppData\\Local\\Programs\\Python\\Python310\\lib\\site-packages\\selenium\\webdriver\\remote\\webdriver.py:430\u001b[0m, in \u001b[0;36mWebDriver.execute\u001b[1;34m(self, driver_command, params)\u001b[0m\n\u001b[0;32m    428\u001b[0m response \u001b[38;5;241m=\u001b[39m \u001b[38;5;28mself\u001b[39m\u001b[38;5;241m.\u001b[39mcommand_executor\u001b[38;5;241m.\u001b[39mexecute(driver_command, params)\n\u001b[0;32m    429\u001b[0m \u001b[38;5;28;01mif\u001b[39;00m response:\n\u001b[1;32m--> 430\u001b[0m     \u001b[38;5;28;43mself\u001b[39;49m\u001b[38;5;241;43m.\u001b[39;49m\u001b[43merror_handler\u001b[49m\u001b[38;5;241;43m.\u001b[39;49m\u001b[43mcheck_response\u001b[49m\u001b[43m(\u001b[49m\u001b[43mresponse\u001b[49m\u001b[43m)\u001b[49m\n\u001b[0;32m    431\u001b[0m     response[\u001b[38;5;124m'\u001b[39m\u001b[38;5;124mvalue\u001b[39m\u001b[38;5;124m'\u001b[39m] \u001b[38;5;241m=\u001b[39m \u001b[38;5;28mself\u001b[39m\u001b[38;5;241m.\u001b[39m_unwrap_value(\n\u001b[0;32m    432\u001b[0m         response\u001b[38;5;241m.\u001b[39mget(\u001b[38;5;124m'\u001b[39m\u001b[38;5;124mvalue\u001b[39m\u001b[38;5;124m'\u001b[39m, \u001b[38;5;28;01mNone\u001b[39;00m))\n\u001b[0;32m    433\u001b[0m     \u001b[38;5;28;01mreturn\u001b[39;00m response\n",
      "File \u001b[1;32m~\\AppData\\Local\\Programs\\Python\\Python310\\lib\\site-packages\\selenium\\webdriver\\remote\\errorhandler.py:247\u001b[0m, in \u001b[0;36mErrorHandler.check_response\u001b[1;34m(self, response)\u001b[0m\n\u001b[0;32m    245\u001b[0m         alert_text \u001b[38;5;241m=\u001b[39m value[\u001b[38;5;124m'\u001b[39m\u001b[38;5;124malert\u001b[39m\u001b[38;5;124m'\u001b[39m]\u001b[38;5;241m.\u001b[39mget(\u001b[38;5;124m'\u001b[39m\u001b[38;5;124mtext\u001b[39m\u001b[38;5;124m'\u001b[39m)\n\u001b[0;32m    246\u001b[0m     \u001b[38;5;28;01mraise\u001b[39;00m exception_class(message, screen, stacktrace, alert_text)  \u001b[38;5;66;03m# type: ignore[call-arg]  # mypy is not smart enough here\u001b[39;00m\n\u001b[1;32m--> 247\u001b[0m \u001b[38;5;28;01mraise\u001b[39;00m exception_class(message, screen, stacktrace)\n",
      "\u001b[1;31mElementClickInterceptedException\u001b[0m: Message: element click intercepted: Element <a class=\"_2nACJZw2LTxrvR3R_Dlj8r _1ygziz5LDCJVBk60kY7FkP \" href=\"/product/o-neck-knit-sleeveless-basic-slim-fit-tummy-control-tank-casual-top/9b77efa5-05d7-43ff-8035-8a367f414329.html\">...</a> is not clickable at point (949, 106). Other element would receive the click: <div class=\"jEINn5zFiyhsMIRTCacc_ _3yK-HkxGeu11uT1QCL21r\">...</div>\n  (Session info: chrome=132.0.6834.160)\nStacktrace:\n\tGetHandleVerifier [0x00007FF7967202F5+28725]\n\t(No symbol) [0x00007FF796682AE0]\n\t(No symbol) [0x00007FF79651510A]\n\t(No symbol) [0x00007FF7965710F8]\n\t(No symbol) [0x00007FF79656EB42]\n\t(No symbol) [0x00007FF79656BC51]\n\t(No symbol) [0x00007FF79656ABB1]\n\t(No symbol) [0x00007FF79655C6B4]\n\t(No symbol) [0x00007FF79658FFAA]\n\t(No symbol) [0x00007FF79655BF86]\n\t(No symbol) [0x00007FF7965901C0]\n\t(No symbol) [0x00007FF7965B0181]\n\t(No symbol) [0x00007FF79658FD53]\n\t(No symbol) [0x00007FF79655A0E3]\n\t(No symbol) [0x00007FF79655B471]\n\tGetHandleVerifier [0x00007FF796A4F30D+3366989]\n\tGetHandleVerifier [0x00007FF796A612F0+3440688]\n\tGetHandleVerifier [0x00007FF796A578FD+3401277]\n\tGetHandleVerifier [0x00007FF7967EAAAB+858091]\n\t(No symbol) [0x00007FF79668E74F]\n\t(No symbol) [0x00007FF79668A304]\n\t(No symbol) [0x00007FF79668A49D]\n\t(No symbol) [0x00007FF796678B69]\n\tBaseThreadInitThunk [0x00007FFAC31C7374+20]\n\tRtlUserThreadStart [0x00007FFAC3F9CC91+33]\n"
     ]
    }
   ],
   "source": [
    "data=[]\n",
    "for i,product in enumerate(products_links): \n",
    "    driver.get(product)\n",
    "    product_colors=driver.find_elements(by=By.CSS_SELECTOR,value='div._8BqkJwFVoJmr85o5FBTq6 ul li a')\n",
    "    if len(product_colors)>0:\n",
    "        name=driver.find_element(by=By.CSS_SELECTOR,value='h1.tMgI0_rJEnF4GbL1wy7-Y').text\n",
    "        try:\n",
    "            discount_price=driver.find_element(by=By.CSS_SELECTOR,value='div.OutQO1M9Ebf5R2khx-pAf span').text\n",
    "            original_price=driver.find_element(by=By.CSS_SELECTOR,value='div.OutQO1M9Ebf5R2khx-pAf del').text\n",
    "        except NoSuchElementException:\n",
    "            original_price=driver.find_element(by=By.CSS_SELECTOR,value='div.OutQO1M9Ebf5R2khx-pAf span').text\n",
    "            discount_price=None\n",
    "        \n",
    "        product_details_keys=driver.find_elements(by=By.CSS_SELECTOR,value='table tbody tr')\n",
    "        details={}\n",
    "        for p in product_details_keys:\n",
    "            if p.text==\"\":\n",
    "                pass\n",
    "            else:\n",
    "                key,value=p.text.split(':')\n",
    "                details[key]=value\n",
    "        colors_data={}\n",
    "        for color in product_colors:\n",
    "            wait.until(EC.element_to_be_clickable((color))).click()\n",
    "            color_name=driver.find_elements(by=By.CSS_SELECTOR,value='div._1BI-yOdaWfkMT4sqjeFAdN span')\n",
    "            colour_name=(color_name[-1].text)\n",
    "            sku=driver.find_element(by=By.CSS_SELECTOR,value='p.YQIZH0k7-Ne5i0SliBOMt span').text\n",
    "            pictures=driver.find_elements(by=By.CSS_SELECTOR,value='div ul._3q5rsIq4IPfKOO3SRKXNtA li div')\n",
    "            image_urls=[pic.get_attribute(\"style\")[22:-2] for pic in pictures]\n",
    "            colors_data[colour_name] = {\n",
    "            \"sku\": sku,\n",
    "            \"images\": image_urls\n",
    "        }\n",
    "            size_category=driver.find_elements(by=By.CSS_SELECTOR,value='select.LNs8dDo-n5rx3uXwlGG52 option')\n",
    "            size_data = {}\n",
    "            for category in size_category:\n",
    "                category_name = category.text.strip()\n",
    "\n",
    "                category.click()\n",
    "\n",
    "                # Wait for the sizes to load; here we wait a short period, or use an explicit wait for size elements\n",
    "                time.sleep(1)\n",
    "\n",
    "                # Retrieve the available sizes for this category\n",
    "                size_elements = driver.find_elements(by=By.CSS_SELECTOR,value='div.ouZKMOPYood-t5IBUXCyQ ul li button')\n",
    "                sizes = [size.text.strip() for size in size_elements]\n",
    "            #         print(sizes)\n",
    "                size_data[category_name] = \", \".join(sizes)\n",
    "            row = {\n",
    "                \"Product Name\": name,\n",
    "                \"Discount Price\": discount_price,\n",
    "                \"Actual Price\": original_price,\n",
    "                \"Color\": colour_name,\n",
    "                \"SKU\": sku,\n",
    "                \"Image URLs\": \", \".join(image_urls),\n",
    "                **size_data,\n",
    "                **details\n",
    "            }\n",
    "            data.append(row)\n",
    "            print(i,\"  \",\"multi color\")\n",
    "    else:\n",
    "        name=driver.find_element(by=By.CSS_SELECTOR,value='h1.tMgI0_rJEnF4GbL1wy7-Y').text\n",
    "        try:\n",
    "            discount_price=driver.find_element(by=By.CSS_SELECTOR,value='div.OutQO1M9Ebf5R2khx-pAf span').text\n",
    "            original_price=driver.find_element(by=By.CSS_SELECTOR,value='div.OutQO1M9Ebf5R2khx-pAf del').text\n",
    "        except NoSuchElementException:\n",
    "            original_price=driver.find_element(by=By.CSS_SELECTOR,value='div.OutQO1M9Ebf5R2khx-pAf span').text\n",
    "            discount_price=None\n",
    "        product_details_keys=driver.find_elements(by=By.CSS_SELECTOR,value='table tbody tr')\n",
    "        details={}\n",
    "        for p in product_details_keys:\n",
    "            if p.text==\"\":\n",
    "                pass\n",
    "            else:\n",
    "                key,value=p.text.split(':')\n",
    "                details[key]=value\n",
    "        colour_name=None\n",
    "    #     colour_name=(color_name[-1].text)\n",
    "        sku=driver.find_element(by=By.CSS_SELECTOR,value='p.YQIZH0k7-Ne5i0SliBOMt span').text\n",
    "        pictures=driver.find_elements(by=By.CSS_SELECTOR,value='div ul._3q5rsIq4IPfKOO3SRKXNtA li div')\n",
    "        image_urls=[pic.get_attribute(\"style\")[22:-2] for pic in pictures]\n",
    "        colors_data[colour_name] = {\n",
    "            \"sku\": sku,\n",
    "            \"images\": image_urls\n",
    "        }\n",
    "        size_category=driver.find_elements(by=By.CSS_SELECTOR,value='select.LNs8dDo-n5rx3uXwlGG52 option')\n",
    "        size_data = {}\n",
    "        for category in size_category:\n",
    "            category_name = category.text.strip()\n",
    "            category.click()\n",
    "\n",
    "                # Wait for the sizes to load; here we wait a short period, or use an explicit wait for size elements\n",
    "            time.sleep(1)\n",
    "\n",
    "                # Retrieve the available sizes for this category\n",
    "            size_elements = driver.find_elements(by=By.CSS_SELECTOR,value='div.ouZKMOPYood-t5IBUXCyQ ul li button')\n",
    "            sizes = [size.text.strip() for size in size_elements]\n",
    "            #         print(sizes)\n",
    "            size_data[category_name] = \", \".join(sizes)\n",
    "        row = {\n",
    "                \"Product Name\": name,\n",
    "                \"Discount Price\": discount_price,\n",
    "                \"Actual Price\": original_price,\n",
    "                \"Color\": colour_name,\n",
    "                \"SKU\": sku,\n",
    "                \"Image URLs\": \", \".join(image_urls),\n",
    "                **size_data,\n",
    "                **details\n",
    "            }\n",
    "        data.append(row)\n",
    "        print(i,\"  \",\"single color\")"
   ]
  },
  {
   "cell_type": "code",
   "execution_count": 253,
   "id": "712c44bb",
   "metadata": {},
   "outputs": [],
   "source": [
    "import pandas as pd\n",
    "df = pd.DataFrame(data)\n",
    "# df\n",
    "df.to_csv(\"accesories.csv\", index=False)"
   ]
  }
 ],
 "metadata": {
  "kernelspec": {
   "display_name": "Python 3 (ipykernel)",
   "language": "python",
   "name": "python3"
  },
  "language_info": {
   "codemirror_mode": {
    "name": "ipython",
    "version": 3
   },
   "file_extension": ".py",
   "mimetype": "text/x-python",
   "name": "python",
   "nbconvert_exporter": "python",
   "pygments_lexer": "ipython3",
   "version": "3.10.4"
  }
 },
 "nbformat": 4,
 "nbformat_minor": 5
}
