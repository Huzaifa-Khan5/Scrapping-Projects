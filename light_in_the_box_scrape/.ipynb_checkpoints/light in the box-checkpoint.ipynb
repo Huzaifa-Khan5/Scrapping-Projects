{
 "cells": [
  {
   "cell_type": "code",
   "execution_count": 1,
   "id": "40d9dccf",
   "metadata": {},
   "outputs": [],
   "source": [
    "from selenium import webdriver\n",
    "from selenium.webdriver.common.by import By\n",
    "import time\n",
    "from selenium.webdriver.support.ui import WebDriverWait\n",
    "from selenium.webdriver.support import expected_conditions as EC\n",
    "from selenium.common.exceptions import NoSuchElementException\n",
    "import pandas as pd\n",
    "from selenium.webdriver.common.keys import Keys"
   ]
  },
  {
   "cell_type": "code",
<<<<<<< HEAD
   "execution_count": 72,
=======
   "execution_count": 2,
>>>>>>> 30e9af79b18e1d3c92987fbc62b2239f42fae93e
   "id": "6d66c19b",
   "metadata": {},
   "outputs": [],
   "source": [
    "data=[]"
   ]
  },
  {
   "cell_type": "code",
   "execution_count": 3,
   "id": "da241ef6",
   "metadata": {},
   "outputs": [],
   "source": [
    "driver=webdriver.Chrome()\n",
    "wait = WebDriverWait(driver, 30)"
   ]
  },
  {
   "cell_type": "code",
<<<<<<< HEAD
   "execution_count": 106,
=======
   "execution_count": null,
>>>>>>> 30e9af79b18e1d3c92987fbc62b2239f42fae93e
   "id": "9c5f85da",
   "metadata": {},
   "outputs": [],
   "source": [
<<<<<<< HEAD
    "driver.get(\"https://www.lightinthebox.com/c/men-s-accessories_9874/17.html#prodSortBar\")\n",
=======
    "<<<<<<< local\n",
    "driver.get(\"https://www.lightinthebox.com/c/men-s-outerwear_5609/30.html#prodSortBar\")\n",
    "=======\n",
    "driver.get(\"https://www.lightinthebox.com/c/men-s-hoodies-sweatshirts_18809/37.html#prodSortBar\")\n",
    ">>>>>>> remote\n",
>>>>>>> 30e9af79b18e1d3c92987fbc62b2239f42fae93e
    "driver.maximize_window()"
   ]
  },
  {
   "cell_type": "code",
<<<<<<< HEAD
   "execution_count": 107,
=======
   "execution_count": null,
>>>>>>> 30e9af79b18e1d3c92987fbc62b2239f42fae93e
   "id": "6e8c89f6",
   "metadata": {},
   "outputs": [],
   "source": [
    "products=driver.find_elements(by=By.CSS_SELECTOR,value=\"div.container-right div div a\")\n",
    "products_links=[product.get_attribute(\"href\") for product in products]"
   ]
  },
  {
   "cell_type": "code",
<<<<<<< HEAD
   "execution_count": 108,
=======
   "execution_count": null,
>>>>>>> 30e9af79b18e1d3c92987fbc62b2239f42fae93e
   "id": "0f8d19ba",
   "metadata": {},
   "outputs": [
    {
     "name": "stderr",
     "output_type": "stream",
     "text": [
      "<<<<<<< local\n"
     ]
    },
    {
     "name": "stdout",
     "output_type": "stream",
     "text": [
      "0\n",
      "1\n",
      "2\n",
      "3\n",
      "4\n",
      "5\n",
      "6\n",
      "7\n",
      "8\n",
      "9\n",
      "10\n",
      "11\n",
      "12\n",
      "13\n"
     ]
    },
    {
     "ename": "IndexError",
     "evalue": "list index out of range",
     "output_type": "error",
     "traceback": [
      "\u001b[31m---------------------------------------------------------------------------\u001b[39m",
      "\u001b[31mIndexError\u001b[39m                                Traceback (most recent call last)",
      "\u001b[36mCell\u001b[39m\u001b[36m \u001b[39m\u001b[32mIn[80]\u001b[39m\u001b[32m, line 2\u001b[39m\n\u001b[32m      1\u001b[39m \u001b[38;5;28;01mfor\u001b[39;00m i \u001b[38;5;129;01min\u001b[39;00m \u001b[38;5;28mrange\u001b[39m(\u001b[32m0\u001b[39m,\u001b[32m60\u001b[39m): \n\u001b[32m----> \u001b[39m\u001b[32m2\u001b[39m     driver.get(\u001b[43mproducts_links\u001b[49m\u001b[43m[\u001b[49m\u001b[43mi\u001b[49m\u001b[43m]\u001b[49m)\n\u001b[32m      3\u001b[39m     \u001b[38;5;28;01mtry\u001b[39;00m:\n\u001b[32m      4\u001b[39m         product_name=driver.find_element(by=By.CSS_SELECTOR,value=\u001b[33m\"\u001b[39m\u001b[33mdiv.widget.prod-info-title h1\u001b[39m\u001b[33m\"\u001b[39m).text\n",
      "\u001b[31mIndexError\u001b[39m: list index out of range"
     ]
    },
    {
     "name": "stderr",
     "output_type": "stream",
     "text": [
      "=======\n"
     ]
    },
    {
     "name": "stdout",
     "output_type": "stream",
     "text": [
      "0\n",
      "1\n",
      "2\n",
      "3\n",
      "4\n",
      "5\n",
      "6\n",
      "7\n",
      "8\n",
      "9\n",
      "10\n",
      "11\n",
      "12\n",
      "13\n",
      "14\n",
      "15\n",
      "16\n",
      "17\n",
      "18\n",
      "19\n",
      "20\n",
      "21\n",
      "22\n",
      "23\n",
      "24\n",
      "25\n",
      "26\n",
      "27\n",
      "28\n",
      "29\n",
      "30\n",
      "31\n",
      "32\n",
      "33\n",
      "34\n",
      "35\n",
      "36\n",
      "37\n",
      "38\n",
      "39\n",
      "40\n",
      "41\n",
      "42\n",
      "43\n",
      "44\n",
      "45\n",
      "46\n",
      "47\n",
      "48\n",
      "49\n",
      "50\n",
      "51\n",
      "52\n",
      "53\n",
      "54\n",
      "55\n",
      "56\n",
      "57\n"
     ]
    },
    {
     "ename": "IndexError",
     "evalue": "list index out of range",
     "output_type": "error",
     "traceback": [
      "\u001b[1;31m---------------------------------------------------------------------------\u001b[0m",
      "\u001b[1;31mIndexError\u001b[0m                                Traceback (most recent call last)",
      "Input \u001b[1;32mIn [108]\u001b[0m, in \u001b[0;36m<cell line: 1>\u001b[1;34m()\u001b[0m\n\u001b[0;32m      1\u001b[0m \u001b[38;5;28;01mfor\u001b[39;00m i \u001b[38;5;129;01min\u001b[39;00m \u001b[38;5;28mrange\u001b[39m(\u001b[38;5;241m0\u001b[39m,\u001b[38;5;241m60\u001b[39m): \n\u001b[1;32m----> 2\u001b[0m     driver\u001b[38;5;241m.\u001b[39mget(\u001b[43mproducts_links\u001b[49m\u001b[43m[\u001b[49m\u001b[43mi\u001b[49m\u001b[43m]\u001b[49m)\n\u001b[0;32m      3\u001b[0m     \u001b[38;5;28;01mtry\u001b[39;00m:\n\u001b[0;32m      4\u001b[0m         product_name\u001b[38;5;241m=\u001b[39mdriver\u001b[38;5;241m.\u001b[39mfind_element(by\u001b[38;5;241m=\u001b[39mBy\u001b[38;5;241m.\u001b[39mCSS_SELECTOR,value\u001b[38;5;241m=\u001b[39m\u001b[38;5;124m\"\u001b[39m\u001b[38;5;124mdiv.widget.prod-info-title h1\u001b[39m\u001b[38;5;124m\"\u001b[39m)\u001b[38;5;241m.\u001b[39mtext\n",
      "\u001b[1;31mIndexError\u001b[0m: list index out of range"
     ]
    },
    {
     "name": "stderr",
     "output_type": "stream",
     "text": [
      ">>>>>>> remote\n"
     ]
    }
   ],
   "source": [
    "for i in range(0,60): \n",
    "    driver.get(products_links[i])\n",
    "    try:\n",
    "        product_name=driver.find_element(by=By.CSS_SELECTOR,value=\"div.widget.prod-info-title h1\").text\n",
    "    except:\n",
    "        product_name=driver.find_element(by=By.CSS_SELECTOR,value=\"span.title-text\").text\n",
    "                \n",
    "    price=driver.find_element(by=By.CSS_SELECTOR,value=\"strong[itemprop='price']\").text\n",
    "                    \n",
    "    highlights=driver.find_element(by=By.CSS_SELECTOR,value='div div.description-container div').text\n",
    "    details={}\n",
    "    list_to_extract=highlights.split(\"\\n\")\n",
    "    details[list_to_extract[0]]=list_to_extract[1:]\n",
    "                \n",
    "    product_colors=driver.find_elements(by=By.CSS_SELECTOR,value='''li.sku-attr-container.attr-v-show-li.is-color.is-sku-img.attr-model \n",
    "    div div.attr-item-container div.clearfix span''')\n",
    "                \n",
    "    for color in product_colors:\n",
    "        try:\n",
    "            wait.until(EC.element_to_be_clickable((color))).click()\n",
    "        except:\n",
    "            pass\n",
    "                    \n",
    "        time.sleep(1)\n",
    "        color_name=driver.find_element(by=By.CSS_SELECTOR,value='''li.sku-attr-container.attr-v-show-li.is-color.is-sku-img.attr-model\n",
    "        div.attr-v-show.attr-v-model.form-item h5 div.attr-value''').text\n",
    "        \n",
    "        image_urls=[]\n",
    "        images=driver.find_elements(by=By.CSS_SELECTOR,value=\"div.pull-left.litb-span30 div div.left.carousel_img_wrapper div div ul li span img\")        \n",
    "        for j,img in enumerate(images): \n",
    "            if j<4:\n",
    "                image_urls.append(img.get_attribute(\"src\"))\n",
    "                \n",
    "        if len(image_urls)==0:\n",
    "            images=driver.find_elements(by=By.CSS_SELECTOR,value=\"div.left.left-container.carousel_img_wrapper div div ul li span img\")\n",
    "            for j,img in enumerate(images): \n",
    "                if j<4:\n",
    "                    image_urls.append(img.get_attribute(\"src\"))\n",
    "                    \n",
    "        row = {\n",
    "            \"Product Name\": product_name,\n",
    "            \"Price\": price,\n",
    "            \"Color\": color_name,\n",
    "            \"Image URLs\": \",\".join(image_urls),\n",
    "            **details\n",
    "        }\n",
    "        data.append(row)\n",
    "    print(i)        "
   ]
  },
  {
   "cell_type": "code",
<<<<<<< HEAD
   "execution_count": 109,
=======
   "execution_count": null,
>>>>>>> 30e9af79b18e1d3c92987fbc62b2239f42fae93e
   "id": "4477d6f2",
   "metadata": {},
   "outputs": [],
   "source": [
    "df = pd.DataFrame(data)\n",
    "# df"
   ]
  },
  {
   "cell_type": "code",
<<<<<<< HEAD
   "execution_count": 110,
=======
   "execution_count": null,
>>>>>>> 30e9af79b18e1d3c92987fbc62b2239f42fae93e
   "id": "34145541",
   "metadata": {},
   "outputs": [],
   "source": [
<<<<<<< HEAD
    "df.to_csv(\"Men's Accessories.csv\", mode='a', header=False, index=False)"
=======
    "df.to_csv(\"Men's Outerwear.csv\", mode='a', header=False, index=False)"
>>>>>>> 30e9af79b18e1d3c92987fbc62b2239f42fae93e
   ]
  },
  {
   "cell_type": "code",
   "execution_count": null,
   "id": "fae06791",
   "metadata": {},
   "outputs": [],
   "source": [
    "df.to_csv(\"Men's Custom Clothing.csv\", index=False)"
   ]
  },
  {
   "cell_type": "code",
   "execution_count": 37,
   "id": "cb833baf-d127-4341-8d0a-9996c9061f18",
   "metadata": {},
   "outputs": [
    {
     "name": "stdout",
     "output_type": "stream",
     "text": [
      "2595\n"
     ]
    }
   ],
   "source": [
    "print(len(data))"
   ]
  },
  {
   "cell_type": "code",
   "execution_count": 16,
   "id": "7453604d",
   "metadata": {},
   "outputs": [],
   "source": [
    "driver.get(products_links[0])"
   ]
  },
  {
   "cell_type": "code",
   "execution_count": 18,
   "id": "f11e9445",
   "metadata": {},
   "outputs": [],
   "source": [
    "name=driver.find_element(by=By.CSS_SELECTOR,value=\"div.widget.prod-info-title h1\").text"
   ]
  },
  {
   "cell_type": "code",
   "execution_count": 20,
   "id": "956289f7",
   "metadata": {},
   "outputs": [
    {
     "data": {
      "text/plain": [
       "'USD $19.99'"
      ]
     },
     "execution_count": 20,
     "metadata": {},
     "output_type": "execute_result"
    }
   ],
   "source": [
    "driver.find_element(by=By.CSS_SELECTOR,value=\"strong[itemprop='price']\").text"
   ]
  },
  {
   "cell_type": "code",
   "execution_count": 50,
   "id": "f37199a7",
   "metadata": {},
   "outputs": [],
   "source": [
    "product_colors=driver.find_elements(by=By.CSS_SELECTOR,value='''li.sku-attr-container.attr-v-show-li.is-color.is-sku-img.attr-model \n",
    "div div.attr-item-container div.clearfix span''')"
   ]
  },
  {
   "cell_type": "code",
   "execution_count": 51,
   "id": "acc372f0",
   "metadata": {},
   "outputs": [
    {
     "data": {
      "text/plain": [
       "4"
      ]
     },
     "execution_count": 51,
     "metadata": {},
     "output_type": "execute_result"
    }
   ],
   "source": [
    "len(product_colors)"
   ]
  },
  {
   "cell_type": "code",
   "execution_count": 34,
   "id": "15dd5408",
   "metadata": {},
   "outputs": [],
   "source": [
    "for i in product_colors:\n",
    "    time.sleep(1)\n",
    "    i.click()\n",
    "    time.sleep(5)"
   ]
  },
  {
   "cell_type": "code",
   "execution_count": 19,
   "id": "96b69977",
   "metadata": {},
   "outputs": [],
   "source": [
    "images=driver.find_elements(by=By.CSS_SELECTOR,value=\"div.pull-left.litb-span30 div div.left.carousel_img_wrapper div div ul li span img\")"
   ]
  },
  {
   "cell_type": "code",
   "execution_count": 21,
   "id": "1a39d300",
   "metadata": {},
   "outputs": [],
   "source": [
    "img_url=[]\n",
    "for j,img in enumerate(images): \n",
    "    if j<4:\n",
    "        img_url.append(img.get_attribute(\"src\"))"
   ]
  },
  {
   "cell_type": "code",
   "execution_count": 22,
   "id": "efa82ec8",
   "metadata": {},
   "outputs": [
    {
     "name": "stdout",
     "output_type": "stream",
     "text": [
      "['https://litb-cgis.rightinthebox.com/images/170x226/202505/bps/product/inc/wdbzri1747878203582.jpg', 'https://litb-cgis.rightinthebox.com/images/170x226/202505/bps/product/inc/gylyjb1747878204946.jpg', 'https://litb-cgis.rightinthebox.com/images/170x226/202505/bps/product/inc/fzvbrp1747878206359.jpg', 'https://litb-cgis.rightinthebox.com/images/170x226/202505/bps/product/inc/dbhzxs1747878207375.jpg']\n"
     ]
    }
   ],
   "source": [
    "print(img_url)"
   ]
  },
  {
   "cell_type": "code",
   "execution_count": 20,
   "id": "bb362fba",
   "metadata": {},
   "outputs": [
    {
     "data": {
      "text/plain": [
       "6"
      ]
     },
     "execution_count": 20,
     "metadata": {},
     "output_type": "execute_result"
    }
   ],
   "source": [
    "len(images)"
   ]
  },
  {
   "cell_type": "code",
   "execution_count": 45,
   "id": "f9835f69",
   "metadata": {},
   "outputs": [],
   "source": [
    "highlights=driver.find_element(by=By.CSS_SELECTOR,value='div div.description-container div').text"
   ]
  },
  {
   "cell_type": "code",
   "execution_count": 47,
   "id": "bfeb080d",
   "metadata": {},
   "outputs": [],
   "source": [
    "list_to_extract=highlights.split(\"\\n\")"
   ]
  },
  {
   "cell_type": "code",
   "execution_count": 14,
   "id": "ba0ab3c6",
   "metadata": {},
   "outputs": [
    {
     "ename": "NoSuchElementException",
     "evalue": "Message: no such element: Unable to locate element: {\"method\":\"css selector\",\"selector\":\"li.next a\"}\n  (Session info: chrome=137.0.7151.68)\nStacktrace:\n\tGetHandleVerifier [0x0x7ff69d366f65+78965]\n\tGetHandleVerifier [0x0x7ff69d366fc0+79056]\n\t(No symbol) [0x0x7ff69d0f9dda]\n\t(No symbol) [0x0x7ff69d1502ea]\n\t(No symbol) [0x0x7ff69d15059c]\n\t(No symbol) [0x0x7ff69d1a3f37]\n\t(No symbol) [0x0x7ff69d1786af]\n\t(No symbol) [0x0x7ff69d1a0dbe]\n\t(No symbol) [0x0x7ff69d178443]\n\t(No symbol) [0x0x7ff69d141311]\n\t(No symbol) [0x0x7ff69d1420a3]\n\tGetHandleVerifier [0x0x7ff69d61e26d+2926461]\n\tGetHandleVerifier [0x0x7ff69d618993+2903715]\n\tGetHandleVerifier [0x0x7ff69d636aed+3026941]\n\tGetHandleVerifier [0x0x7ff69d3816fe+187406]\n\tGetHandleVerifier [0x0x7ff69d3896ef+220159]\n\tGetHandleVerifier [0x0x7ff69d36faf4+114692]\n\tGetHandleVerifier [0x0x7ff69d36fca9+115129]\n\tGetHandleVerifier [0x0x7ff69d3564d8+10728]\n\tBaseThreadInitThunk [0x0x7ffde9c87374+20]\n\tRtlUserThreadStart [0x0x7ffdeae7cc91+33]\n",
     "output_type": "error",
     "traceback": [
      "\u001b[1;31m---------------------------------------------------------------------------\u001b[0m",
      "\u001b[1;31mNoSuchElementException\u001b[0m                    Traceback (most recent call last)",
      "Input \u001b[1;32mIn [14]\u001b[0m, in \u001b[0;36m<cell line: 1>\u001b[1;34m()\u001b[0m\n\u001b[1;32m----> 1\u001b[0m page\u001b[38;5;241m=\u001b[39m\u001b[43mdriver\u001b[49m\u001b[38;5;241;43m.\u001b[39;49m\u001b[43mfind_element\u001b[49m\u001b[43m(\u001b[49m\u001b[43mby\u001b[49m\u001b[38;5;241;43m=\u001b[39;49m\u001b[43mBy\u001b[49m\u001b[38;5;241;43m.\u001b[39;49m\u001b[43mCSS_SELECTOR\u001b[49m\u001b[43m,\u001b[49m\u001b[43mvalue\u001b[49m\u001b[38;5;241;43m=\u001b[39;49m\u001b[38;5;124;43m\"\u001b[39;49m\u001b[38;5;124;43mli.next a\u001b[39;49m\u001b[38;5;124;43m\"\u001b[39;49m\u001b[43m)\u001b[49m\n\u001b[0;32m      2\u001b[0m page\u001b[38;5;241m.\u001b[39mget_attribute(\u001b[38;5;124m\"\u001b[39m\u001b[38;5;124mhref\u001b[39m\u001b[38;5;124m\"\u001b[39m)\n",
      "File \u001b[1;32m~\\AppData\\Local\\Programs\\Python\\Python310\\lib\\site-packages\\selenium\\webdriver\\remote\\webdriver.py:1251\u001b[0m, in \u001b[0;36mWebDriver.find_element\u001b[1;34m(self, by, value)\u001b[0m\n\u001b[0;32m   1248\u001b[0m     by \u001b[38;5;241m=\u001b[39m By\u001b[38;5;241m.\u001b[39mCSS_SELECTOR\n\u001b[0;32m   1249\u001b[0m     value \u001b[38;5;241m=\u001b[39m \u001b[38;5;124m'\u001b[39m\u001b[38;5;124m[name=\u001b[39m\u001b[38;5;124m\"\u001b[39m\u001b[38;5;132;01m%s\u001b[39;00m\u001b[38;5;124m\"\u001b[39m\u001b[38;5;124m]\u001b[39m\u001b[38;5;124m'\u001b[39m \u001b[38;5;241m%\u001b[39m value\n\u001b[1;32m-> 1251\u001b[0m \u001b[38;5;28;01mreturn\u001b[39;00m \u001b[38;5;28;43mself\u001b[39;49m\u001b[38;5;241;43m.\u001b[39;49m\u001b[43mexecute\u001b[49m\u001b[43m(\u001b[49m\u001b[43mCommand\u001b[49m\u001b[38;5;241;43m.\u001b[39;49m\u001b[43mFIND_ELEMENT\u001b[49m\u001b[43m,\u001b[49m\u001b[43m \u001b[49m\u001b[43m{\u001b[49m\n\u001b[0;32m   1252\u001b[0m \u001b[43m    \u001b[49m\u001b[38;5;124;43m'\u001b[39;49m\u001b[38;5;124;43musing\u001b[39;49m\u001b[38;5;124;43m'\u001b[39;49m\u001b[43m:\u001b[49m\u001b[43m \u001b[49m\u001b[43mby\u001b[49m\u001b[43m,\u001b[49m\n\u001b[0;32m   1253\u001b[0m \u001b[43m    \u001b[49m\u001b[38;5;124;43m'\u001b[39;49m\u001b[38;5;124;43mvalue\u001b[39;49m\u001b[38;5;124;43m'\u001b[39;49m\u001b[43m:\u001b[49m\u001b[43m \u001b[49m\u001b[43mvalue\u001b[49m\u001b[43m}\u001b[49m\u001b[43m)\u001b[49m[\u001b[38;5;124m'\u001b[39m\u001b[38;5;124mvalue\u001b[39m\u001b[38;5;124m'\u001b[39m]\n",
      "File \u001b[1;32m~\\AppData\\Local\\Programs\\Python\\Python310\\lib\\site-packages\\selenium\\webdriver\\remote\\webdriver.py:430\u001b[0m, in \u001b[0;36mWebDriver.execute\u001b[1;34m(self, driver_command, params)\u001b[0m\n\u001b[0;32m    428\u001b[0m response \u001b[38;5;241m=\u001b[39m \u001b[38;5;28mself\u001b[39m\u001b[38;5;241m.\u001b[39mcommand_executor\u001b[38;5;241m.\u001b[39mexecute(driver_command, params)\n\u001b[0;32m    429\u001b[0m \u001b[38;5;28;01mif\u001b[39;00m response:\n\u001b[1;32m--> 430\u001b[0m     \u001b[38;5;28;43mself\u001b[39;49m\u001b[38;5;241;43m.\u001b[39;49m\u001b[43merror_handler\u001b[49m\u001b[38;5;241;43m.\u001b[39;49m\u001b[43mcheck_response\u001b[49m\u001b[43m(\u001b[49m\u001b[43mresponse\u001b[49m\u001b[43m)\u001b[49m\n\u001b[0;32m    431\u001b[0m     response[\u001b[38;5;124m'\u001b[39m\u001b[38;5;124mvalue\u001b[39m\u001b[38;5;124m'\u001b[39m] \u001b[38;5;241m=\u001b[39m \u001b[38;5;28mself\u001b[39m\u001b[38;5;241m.\u001b[39m_unwrap_value(\n\u001b[0;32m    432\u001b[0m         response\u001b[38;5;241m.\u001b[39mget(\u001b[38;5;124m'\u001b[39m\u001b[38;5;124mvalue\u001b[39m\u001b[38;5;124m'\u001b[39m, \u001b[38;5;28;01mNone\u001b[39;00m))\n\u001b[0;32m    433\u001b[0m     \u001b[38;5;28;01mreturn\u001b[39;00m response\n",
      "File \u001b[1;32m~\\AppData\\Local\\Programs\\Python\\Python310\\lib\\site-packages\\selenium\\webdriver\\remote\\errorhandler.py:247\u001b[0m, in \u001b[0;36mErrorHandler.check_response\u001b[1;34m(self, response)\u001b[0m\n\u001b[0;32m    245\u001b[0m         alert_text \u001b[38;5;241m=\u001b[39m value[\u001b[38;5;124m'\u001b[39m\u001b[38;5;124malert\u001b[39m\u001b[38;5;124m'\u001b[39m]\u001b[38;5;241m.\u001b[39mget(\u001b[38;5;124m'\u001b[39m\u001b[38;5;124mtext\u001b[39m\u001b[38;5;124m'\u001b[39m)\n\u001b[0;32m    246\u001b[0m     \u001b[38;5;28;01mraise\u001b[39;00m exception_class(message, screen, stacktrace, alert_text)  \u001b[38;5;66;03m# type: ignore[call-arg]  # mypy is not smart enough here\u001b[39;00m\n\u001b[1;32m--> 247\u001b[0m \u001b[38;5;28;01mraise\u001b[39;00m exception_class(message, screen, stacktrace)\n",
      "\u001b[1;31mNoSuchElementException\u001b[0m: Message: no such element: Unable to locate element: {\"method\":\"css selector\",\"selector\":\"li.next a\"}\n  (Session info: chrome=137.0.7151.68)\nStacktrace:\n\tGetHandleVerifier [0x0x7ff69d366f65+78965]\n\tGetHandleVerifier [0x0x7ff69d366fc0+79056]\n\t(No symbol) [0x0x7ff69d0f9dda]\n\t(No symbol) [0x0x7ff69d1502ea]\n\t(No symbol) [0x0x7ff69d15059c]\n\t(No symbol) [0x0x7ff69d1a3f37]\n\t(No symbol) [0x0x7ff69d1786af]\n\t(No symbol) [0x0x7ff69d1a0dbe]\n\t(No symbol) [0x0x7ff69d178443]\n\t(No symbol) [0x0x7ff69d141311]\n\t(No symbol) [0x0x7ff69d1420a3]\n\tGetHandleVerifier [0x0x7ff69d61e26d+2926461]\n\tGetHandleVerifier [0x0x7ff69d618993+2903715]\n\tGetHandleVerifier [0x0x7ff69d636aed+3026941]\n\tGetHandleVerifier [0x0x7ff69d3816fe+187406]\n\tGetHandleVerifier [0x0x7ff69d3896ef+220159]\n\tGetHandleVerifier [0x0x7ff69d36faf4+114692]\n\tGetHandleVerifier [0x0x7ff69d36fca9+115129]\n\tGetHandleVerifier [0x0x7ff69d3564d8+10728]\n\tBaseThreadInitThunk [0x0x7ffde9c87374+20]\n\tRtlUserThreadStart [0x0x7ffdeae7cc91+33]\n"
     ]
    }
   ],
   "source": [
    "page=driver.find_element(by=By.CSS_SELECTOR,value=\"li.next a\")\n",
    "page.get_attribute(\"href\")"
   ]
  }
 ],
 "metadata": {
  "kernelspec": {
   "display_name": "Python 3 (ipykernel)",
   "language": "python",
   "name": "python3"
  },
  "language_info": {
   "codemirror_mode": {
    "name": "ipython",
    "version": 3
   },
   "file_extension": ".py",
   "mimetype": "text/x-python",
   "name": "python",
   "nbconvert_exporter": "python",
   "pygments_lexer": "ipython3",
   "version": "3.12.10"
  }
 },
 "nbformat": 4,
 "nbformat_minor": 5
}
