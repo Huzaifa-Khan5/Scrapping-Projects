{
 "cells": [
  {
   "cell_type": "code",
   "execution_count": 1,
   "id": "40d9dccf",
   "metadata": {},
   "outputs": [],
   "source": [
    "from selenium import webdriver\n",
    "from selenium.webdriver.common.by import By\n",
    "import time\n",
    "from selenium.webdriver.support.ui import WebDriverWait\n",
    "from selenium.webdriver.support import expected_conditions as EC\n",
    "from selenium.common.exceptions import NoSuchElementException\n",
    "import pandas as pd\n",
    "from selenium.webdriver.common.keys import Keys"
   ]
  },
  {
   "cell_type": "code",
   "execution_count": 52,
   "id": "da241ef6",
   "metadata": {},
   "outputs": [],
   "source": [
    "driver=webdriver.Chrome()\n",
    "wait = WebDriverWait(driver, 30)"
   ]
  },
  {
   "cell_type": "code",
   "execution_count": 53,
   "id": "9c5f85da",
   "metadata": {},
   "outputs": [],
   "source": [
    "driver.get(\"https://www.lightinthebox.com/c/men-s-tees-tank-tops_35211?prm=1.2.56.0\")\n",
    "driver.maximize_window()"
   ]
  },
  {
   "cell_type": "code",
   "execution_count": 54,
   "id": "6e8c89f6",
   "metadata": {},
   "outputs": [],
   "source": [
    "products=driver.find_elements(by=By.CSS_SELECTOR,value=\"div.container-right div div a\")"
   ]
  },
  {
   "cell_type": "code",
   "execution_count": 55,
   "id": "919fae9c",
   "metadata": {},
   "outputs": [],
   "source": [
    "products_links=[product.get_attribute(\"href\") for product in products]"
   ]
  },
  {
   "cell_type": "code",
   "execution_count": 57,
   "id": "0f8d19ba",
   "metadata": {},
   "outputs": [
    {
     "name": "stdout",
     "output_type": "stream",
     "text": [
      "0\n",
      "1\n",
      "2\n",
      "3\n",
      "4\n",
      "5\n",
      "6\n",
      "7\n",
      "8\n",
      "9\n",
      "10\n",
      "11\n",
      "12\n",
      "13\n",
      "14\n",
      "15\n",
      "16\n",
      "17\n",
      "18\n",
      "19\n",
      "20\n",
      "21\n",
      "22\n",
      "23\n",
      "24\n",
      "25\n",
      "26\n",
      "27\n",
      "28\n",
      "29\n"
     ]
    },
    {
     "ename": "StaleElementReferenceException",
     "evalue": "Message: stale element reference: stale element not found\n  (Session info: chrome=137.0.7151.55)\nStacktrace:\n\tGetHandleVerifier [0x0x7ff79cb96f65+78965]\n\tGetHandleVerifier [0x0x7ff79cb96fc0+79056]\n\t(No symbol) [0x0x7ff79c929dda]\n\t(No symbol) [0x0x7ff79c940234]\n\t(No symbol) [0x0x7ff79c93ed03]\n\t(No symbol) [0x0x7ff79c9324e9]\n\t(No symbol) [0x0x7ff79c932663]\n\t(No symbol) [0x0x7ff79c93038f]\n\t(No symbol) [0x0x7ff79c934bbc]\n\t(No symbol) [0x0x7ff79c9d2096]\n\t(No symbol) [0x0x7ff79c9a866a]\n\t(No symbol) [0x0x7ff79c9d0dbe]\n\t(No symbol) [0x0x7ff79c9a8443]\n\t(No symbol) [0x0x7ff79c971311]\n\t(No symbol) [0x0x7ff79c9720a3]\n\tGetHandleVerifier [0x0x7ff79ce4e26d+2926461]\n\tGetHandleVerifier [0x0x7ff79ce48993+2903715]\n\tGetHandleVerifier [0x0x7ff79ce66aed+3026941]\n\tGetHandleVerifier [0x0x7ff79cbb16fe+187406]\n\tGetHandleVerifier [0x0x7ff79cbb96ef+220159]\n\tGetHandleVerifier [0x0x7ff79cb9faf4+114692]\n\tGetHandleVerifier [0x0x7ff79cb9fca9+115129]\n\tGetHandleVerifier [0x0x7ff79cb864d8+10728]\n\tBaseThreadInitThunk [0x0x7ff823237374+20]\n\tRtlUserThreadStart [0x0x7ff82427cc91+33]\n",
     "output_type": "error",
     "traceback": [
      "\u001b[1;31m---------------------------------------------------------------------------\u001b[0m",
      "\u001b[1;31mStaleElementReferenceException\u001b[0m            Traceback (most recent call last)",
      "Input \u001b[1;32mIn [57]\u001b[0m, in \u001b[0;36m<cell line: 2>\u001b[1;34m()\u001b[0m\n\u001b[0;32m     14\u001b[0m product_colors\u001b[38;5;241m=\u001b[39mdriver\u001b[38;5;241m.\u001b[39mfind_elements(by\u001b[38;5;241m=\u001b[39mBy\u001b[38;5;241m.\u001b[39mCSS_SELECTOR,value\u001b[38;5;241m=\u001b[39m\u001b[38;5;124m'''\u001b[39m\u001b[38;5;124mli.sku-attr-container.attr-v-show-li.is-color.is-sku-img.attr-model \u001b[39m\n\u001b[0;32m     15\u001b[0m \u001b[38;5;124mdiv div.attr-item-container div.clearfix span\u001b[39m\u001b[38;5;124m'''\u001b[39m)\n\u001b[0;32m     17\u001b[0m \u001b[38;5;28;01mfor\u001b[39;00m color \u001b[38;5;129;01min\u001b[39;00m product_colors:\n\u001b[1;32m---> 18\u001b[0m     \u001b[43mwait\u001b[49m\u001b[38;5;241;43m.\u001b[39;49m\u001b[43muntil\u001b[49m\u001b[43m(\u001b[49m\u001b[43mEC\u001b[49m\u001b[38;5;241;43m.\u001b[39;49m\u001b[43melement_to_be_clickable\u001b[49m\u001b[43m(\u001b[49m\u001b[43m(\u001b[49m\u001b[43mcolor\u001b[49m\u001b[43m)\u001b[49m\u001b[43m)\u001b[49m\u001b[43m)\u001b[49m\u001b[38;5;241m.\u001b[39mclick()\n\u001b[0;32m     20\u001b[0m     color_name\u001b[38;5;241m=\u001b[39mdriver\u001b[38;5;241m.\u001b[39mfind_element(by\u001b[38;5;241m=\u001b[39mBy\u001b[38;5;241m.\u001b[39mCSS_SELECTOR,value\u001b[38;5;241m=\u001b[39m\u001b[38;5;124m'''\u001b[39m\u001b[38;5;124mli.sku-attr-container.attr-v-show-li.is-color.is-sku-img.attr-model\u001b[39m\n\u001b[0;32m     21\u001b[0m \u001b[38;5;124m    div.attr-v-show.attr-v-model.form-item h5 div.attr-value\u001b[39m\u001b[38;5;124m'''\u001b[39m)\u001b[38;5;241m.\u001b[39mtext\n\u001b[0;32m     23\u001b[0m     images\u001b[38;5;241m=\u001b[39mdriver\u001b[38;5;241m.\u001b[39mfind_elements(by\u001b[38;5;241m=\u001b[39mBy\u001b[38;5;241m.\u001b[39mCSS_SELECTOR,value\u001b[38;5;241m=\u001b[39m\u001b[38;5;124m\"\u001b[39m\u001b[38;5;124mdiv.pull-left.litb-span30 div div.left.carousel_img_wrapper div div ul li span img\u001b[39m\u001b[38;5;124m\"\u001b[39m)\n",
      "File \u001b[1;32m~\\AppData\\Local\\Programs\\Python\\Python310\\lib\\site-packages\\selenium\\webdriver\\support\\wait.py:78\u001b[0m, in \u001b[0;36mWebDriverWait.until\u001b[1;34m(self, method, message)\u001b[0m\n\u001b[0;32m     76\u001b[0m \u001b[38;5;28;01mwhile\u001b[39;00m \u001b[38;5;28;01mTrue\u001b[39;00m:\n\u001b[0;32m     77\u001b[0m     \u001b[38;5;28;01mtry\u001b[39;00m:\n\u001b[1;32m---> 78\u001b[0m         value \u001b[38;5;241m=\u001b[39m \u001b[43mmethod\u001b[49m\u001b[43m(\u001b[49m\u001b[38;5;28;43mself\u001b[39;49m\u001b[38;5;241;43m.\u001b[39;49m\u001b[43m_driver\u001b[49m\u001b[43m)\u001b[49m\n\u001b[0;32m     79\u001b[0m         \u001b[38;5;28;01mif\u001b[39;00m value:\n\u001b[0;32m     80\u001b[0m             \u001b[38;5;28;01mreturn\u001b[39;00m value\n",
      "File \u001b[1;32m~\\AppData\\Local\\Programs\\Python\\Python310\\lib\\site-packages\\selenium\\webdriver\\support\\expected_conditions.py:313\u001b[0m, in \u001b[0;36melement_to_be_clickable.<locals>._predicate\u001b[1;34m(driver)\u001b[0m\n\u001b[0;32m    311\u001b[0m \u001b[38;5;28;01mif\u001b[39;00m \u001b[38;5;129;01mnot\u001b[39;00m \u001b[38;5;28misinstance\u001b[39m(target, WebElement):  \u001b[38;5;66;03m# if given locator instead of WebElement\u001b[39;00m\n\u001b[0;32m    312\u001b[0m     target \u001b[38;5;241m=\u001b[39m driver\u001b[38;5;241m.\u001b[39mfind_element(\u001b[38;5;241m*\u001b[39mtarget)  \u001b[38;5;66;03m# grab element at locator\u001b[39;00m\n\u001b[1;32m--> 313\u001b[0m target \u001b[38;5;241m=\u001b[39m \u001b[43mvisibility_of\u001b[49m\u001b[43m(\u001b[49m\u001b[43mtarget\u001b[49m\u001b[43m)\u001b[49m\u001b[43m(\u001b[49m\u001b[43mdriver\u001b[49m\u001b[43m)\u001b[49m\n\u001b[0;32m    314\u001b[0m \u001b[38;5;28;01mif\u001b[39;00m target \u001b[38;5;129;01mand\u001b[39;00m target\u001b[38;5;241m.\u001b[39mis_enabled():\n\u001b[0;32m    315\u001b[0m     \u001b[38;5;28;01mreturn\u001b[39;00m target\n",
      "File \u001b[1;32m~\\AppData\\Local\\Programs\\Python\\Python310\\lib\\site-packages\\selenium\\webdriver\\support\\expected_conditions.py:141\u001b[0m, in \u001b[0;36mvisibility_of.<locals>._predicate\u001b[1;34m(_)\u001b[0m\n\u001b[0;32m    140\u001b[0m \u001b[38;5;28;01mdef\u001b[39;00m \u001b[38;5;21m_predicate\u001b[39m(_):\n\u001b[1;32m--> 141\u001b[0m     \u001b[38;5;28;01mreturn\u001b[39;00m \u001b[43m_element_if_visible\u001b[49m\u001b[43m(\u001b[49m\u001b[43melement\u001b[49m\u001b[43m)\u001b[49m\n",
      "File \u001b[1;32m~\\AppData\\Local\\Programs\\Python\\Python310\\lib\\site-packages\\selenium\\webdriver\\support\\expected_conditions.py:147\u001b[0m, in \u001b[0;36m_element_if_visible\u001b[1;34m(element, visibility)\u001b[0m\n\u001b[0;32m    146\u001b[0m \u001b[38;5;28;01mdef\u001b[39;00m \u001b[38;5;21m_element_if_visible\u001b[39m(element, visibility\u001b[38;5;241m=\u001b[39m\u001b[38;5;28;01mTrue\u001b[39;00m):\n\u001b[1;32m--> 147\u001b[0m     \u001b[38;5;28;01mreturn\u001b[39;00m element \u001b[38;5;28;01mif\u001b[39;00m \u001b[43melement\u001b[49m\u001b[38;5;241;43m.\u001b[39;49m\u001b[43mis_displayed\u001b[49m\u001b[43m(\u001b[49m\u001b[43m)\u001b[49m \u001b[38;5;241m==\u001b[39m visibility \u001b[38;5;28;01melse\u001b[39;00m \u001b[38;5;28;01mFalse\u001b[39;00m\n",
      "File \u001b[1;32m~\\AppData\\Local\\Programs\\Python\\Python310\\lib\\site-packages\\selenium\\webdriver\\remote\\webelement.py:627\u001b[0m, in \u001b[0;36mWebElement.is_displayed\u001b[1;34m(self)\u001b[0m\n\u001b[0;32m    625\u001b[0m \u001b[38;5;28;01mif\u001b[39;00m isDisplayed_js \u001b[38;5;129;01mis\u001b[39;00m \u001b[38;5;28;01mNone\u001b[39;00m:\n\u001b[0;32m    626\u001b[0m     _load_js()\n\u001b[1;32m--> 627\u001b[0m \u001b[38;5;28;01mreturn\u001b[39;00m \u001b[38;5;28;43mself\u001b[39;49m\u001b[38;5;241;43m.\u001b[39;49m\u001b[43mparent\u001b[49m\u001b[38;5;241;43m.\u001b[39;49m\u001b[43mexecute_script\u001b[49m\u001b[43m(\u001b[49m\n\u001b[0;32m    628\u001b[0m \u001b[43m    \u001b[49m\u001b[38;5;124;43m\"\u001b[39;49m\u001b[38;5;124;43mreturn (\u001b[39;49m\u001b[38;5;132;43;01m%s\u001b[39;49;00m\u001b[38;5;124;43m).apply(null, arguments);\u001b[39;49m\u001b[38;5;124;43m\"\u001b[39;49m\u001b[43m \u001b[49m\u001b[38;5;241;43m%\u001b[39;49m\u001b[43m \u001b[49m\u001b[43misDisplayed_js\u001b[49m\u001b[43m,\u001b[49m\n\u001b[0;32m    629\u001b[0m \u001b[43m    \u001b[49m\u001b[38;5;28;43mself\u001b[39;49m\u001b[43m)\u001b[49m\n",
      "File \u001b[1;32m~\\AppData\\Local\\Programs\\Python\\Python310\\lib\\site-packages\\selenium\\webdriver\\remote\\webdriver.py:884\u001b[0m, in \u001b[0;36mWebDriver.execute_script\u001b[1;34m(self, script, *args)\u001b[0m\n\u001b[0;32m    881\u001b[0m converted_args \u001b[38;5;241m=\u001b[39m \u001b[38;5;28mlist\u001b[39m(args)\n\u001b[0;32m    882\u001b[0m command \u001b[38;5;241m=\u001b[39m Command\u001b[38;5;241m.\u001b[39mW3C_EXECUTE_SCRIPT\n\u001b[1;32m--> 884\u001b[0m \u001b[38;5;28;01mreturn\u001b[39;00m \u001b[38;5;28;43mself\u001b[39;49m\u001b[38;5;241;43m.\u001b[39;49m\u001b[43mexecute\u001b[49m\u001b[43m(\u001b[49m\u001b[43mcommand\u001b[49m\u001b[43m,\u001b[49m\u001b[43m \u001b[49m\u001b[43m{\u001b[49m\n\u001b[0;32m    885\u001b[0m \u001b[43m    \u001b[49m\u001b[38;5;124;43m'\u001b[39;49m\u001b[38;5;124;43mscript\u001b[39;49m\u001b[38;5;124;43m'\u001b[39;49m\u001b[43m:\u001b[49m\u001b[43m \u001b[49m\u001b[43mscript\u001b[49m\u001b[43m,\u001b[49m\n\u001b[0;32m    886\u001b[0m \u001b[43m    \u001b[49m\u001b[38;5;124;43m'\u001b[39;49m\u001b[38;5;124;43margs\u001b[39;49m\u001b[38;5;124;43m'\u001b[39;49m\u001b[43m:\u001b[49m\u001b[43m \u001b[49m\u001b[43mconverted_args\u001b[49m\u001b[43m}\u001b[49m\u001b[43m)\u001b[49m[\u001b[38;5;124m'\u001b[39m\u001b[38;5;124mvalue\u001b[39m\u001b[38;5;124m'\u001b[39m]\n",
      "File \u001b[1;32m~\\AppData\\Local\\Programs\\Python\\Python310\\lib\\site-packages\\selenium\\webdriver\\remote\\webdriver.py:430\u001b[0m, in \u001b[0;36mWebDriver.execute\u001b[1;34m(self, driver_command, params)\u001b[0m\n\u001b[0;32m    428\u001b[0m response \u001b[38;5;241m=\u001b[39m \u001b[38;5;28mself\u001b[39m\u001b[38;5;241m.\u001b[39mcommand_executor\u001b[38;5;241m.\u001b[39mexecute(driver_command, params)\n\u001b[0;32m    429\u001b[0m \u001b[38;5;28;01mif\u001b[39;00m response:\n\u001b[1;32m--> 430\u001b[0m     \u001b[38;5;28;43mself\u001b[39;49m\u001b[38;5;241;43m.\u001b[39;49m\u001b[43merror_handler\u001b[49m\u001b[38;5;241;43m.\u001b[39;49m\u001b[43mcheck_response\u001b[49m\u001b[43m(\u001b[49m\u001b[43mresponse\u001b[49m\u001b[43m)\u001b[49m\n\u001b[0;32m    431\u001b[0m     response[\u001b[38;5;124m'\u001b[39m\u001b[38;5;124mvalue\u001b[39m\u001b[38;5;124m'\u001b[39m] \u001b[38;5;241m=\u001b[39m \u001b[38;5;28mself\u001b[39m\u001b[38;5;241m.\u001b[39m_unwrap_value(\n\u001b[0;32m    432\u001b[0m         response\u001b[38;5;241m.\u001b[39mget(\u001b[38;5;124m'\u001b[39m\u001b[38;5;124mvalue\u001b[39m\u001b[38;5;124m'\u001b[39m, \u001b[38;5;28;01mNone\u001b[39;00m))\n\u001b[0;32m    433\u001b[0m     \u001b[38;5;28;01mreturn\u001b[39;00m response\n",
      "File \u001b[1;32m~\\AppData\\Local\\Programs\\Python\\Python310\\lib\\site-packages\\selenium\\webdriver\\remote\\errorhandler.py:247\u001b[0m, in \u001b[0;36mErrorHandler.check_response\u001b[1;34m(self, response)\u001b[0m\n\u001b[0;32m    245\u001b[0m         alert_text \u001b[38;5;241m=\u001b[39m value[\u001b[38;5;124m'\u001b[39m\u001b[38;5;124malert\u001b[39m\u001b[38;5;124m'\u001b[39m]\u001b[38;5;241m.\u001b[39mget(\u001b[38;5;124m'\u001b[39m\u001b[38;5;124mtext\u001b[39m\u001b[38;5;124m'\u001b[39m)\n\u001b[0;32m    246\u001b[0m     \u001b[38;5;28;01mraise\u001b[39;00m exception_class(message, screen, stacktrace, alert_text)  \u001b[38;5;66;03m# type: ignore[call-arg]  # mypy is not smart enough here\u001b[39;00m\n\u001b[1;32m--> 247\u001b[0m \u001b[38;5;28;01mraise\u001b[39;00m exception_class(message, screen, stacktrace)\n",
      "\u001b[1;31mStaleElementReferenceException\u001b[0m: Message: stale element reference: stale element not found\n  (Session info: chrome=137.0.7151.55)\nStacktrace:\n\tGetHandleVerifier [0x0x7ff79cb96f65+78965]\n\tGetHandleVerifier [0x0x7ff79cb96fc0+79056]\n\t(No symbol) [0x0x7ff79c929dda]\n\t(No symbol) [0x0x7ff79c940234]\n\t(No symbol) [0x0x7ff79c93ed03]\n\t(No symbol) [0x0x7ff79c9324e9]\n\t(No symbol) [0x0x7ff79c932663]\n\t(No symbol) [0x0x7ff79c93038f]\n\t(No symbol) [0x0x7ff79c934bbc]\n\t(No symbol) [0x0x7ff79c9d2096]\n\t(No symbol) [0x0x7ff79c9a866a]\n\t(No symbol) [0x0x7ff79c9d0dbe]\n\t(No symbol) [0x0x7ff79c9a8443]\n\t(No symbol) [0x0x7ff79c971311]\n\t(No symbol) [0x0x7ff79c9720a3]\n\tGetHandleVerifier [0x0x7ff79ce4e26d+2926461]\n\tGetHandleVerifier [0x0x7ff79ce48993+2903715]\n\tGetHandleVerifier [0x0x7ff79ce66aed+3026941]\n\tGetHandleVerifier [0x0x7ff79cbb16fe+187406]\n\tGetHandleVerifier [0x0x7ff79cbb96ef+220159]\n\tGetHandleVerifier [0x0x7ff79cb9faf4+114692]\n\tGetHandleVerifier [0x0x7ff79cb9fca9+115129]\n\tGetHandleVerifier [0x0x7ff79cb864d8+10728]\n\tBaseThreadInitThunk [0x0x7ff823237374+20]\n\tRtlUserThreadStart [0x0x7ff82427cc91+33]\n"
     ]
    }
   ],
   "source": [
    "data=[]\n",
    "for i,product_link in enumerate(products_links): \n",
    "    driver.get(product_link)\n",
    "    \n",
    "    name=driver.find_element(by=By.CSS_SELECTOR,value=\"div.widget.prod-info-title h1\").text\n",
    "    \n",
    "    price=driver.find_element(by=By.CSS_SELECTOR,value=\"strong[itemprop='price']\").text\n",
    "        \n",
    "    highlights=driver.find_element(by=By.CSS_SELECTOR,value='div div.description-container div').text\n",
    "    details={}\n",
    "    list_to_extract=highlights.split(\"\\n\")\n",
    "    details[list_to_extract[0]]=list_to_extract[1:]\n",
    "    \n",
    "    product_colors=driver.find_elements(by=By.CSS_SELECTOR,value='''li.sku-attr-container.attr-v-show-li.is-color.is-sku-img.attr-model \n",
    "    div div.attr-item-container div.clearfix span''')\n",
    "    \n",
    "    for color in product_colors:\n",
    "        wait.until(EC.element_to_be_clickable((color))).click()\n",
    "        \n",
    "        color_name=driver.find_element(by=By.CSS_SELECTOR,value='''li.sku-attr-container.attr-v-show-li.is-color.is-sku-img.attr-model\n",
    "        div.attr-v-show.attr-v-model.form-item h5 div.attr-value''').text\n",
    "        \n",
    "        images=driver.find_elements(by=By.CSS_SELECTOR,value=\"div.pull-left.litb-span30 div div.left.carousel_img_wrapper div div ul li span img\")\n",
    "        image_urls=[img.get_attribute(\"src\") for img in images]\n",
    "        row = {\n",
    "                \"Product Name\": name,\n",
    "                \"Price\": price,\n",
    "                \"Color\": color_name,\n",
    "                \"Image URLs\": \", \".join(image_urls),\n",
    "                **details\n",
    "            }\n",
    "    data.append(row)\n",
    "    print(i)        "
   ]
  },
  {
   "cell_type": "code",
   "execution_count": 58,
   "id": "4477d6f2",
   "metadata": {},
   "outputs": [],
   "source": [
    "df = pd.DataFrame(data)\n",
    "# df\n",
    "df.to_csv(\"T-shirt.csv\", index=False)"
   ]
  },
  {
   "cell_type": "code",
   "execution_count": 16,
   "id": "7453604d",
   "metadata": {},
   "outputs": [],
   "source": [
    "driver.get(products_links[0])"
   ]
  },
  {
   "cell_type": "code",
   "execution_count": 18,
   "id": "f11e9445",
   "metadata": {},
   "outputs": [],
   "source": [
    "name=driver.find_element(by=By.CSS_SELECTOR,value=\"div.widget.prod-info-title h1\").text"
   ]
  },
  {
   "cell_type": "code",
   "execution_count": 20,
   "id": "956289f7",
   "metadata": {},
   "outputs": [
    {
     "data": {
      "text/plain": [
       "'USD $19.99'"
      ]
     },
     "execution_count": 20,
     "metadata": {},
     "output_type": "execute_result"
    }
   ],
   "source": [
    "driver.find_element(by=By.CSS_SELECTOR,value=\"strong[itemprop='price']\").text"
   ]
  },
  {
   "cell_type": "code",
   "execution_count": 50,
   "id": "f37199a7",
   "metadata": {},
   "outputs": [],
   "source": [
    "product_colors=driver.find_elements(by=By.CSS_SELECTOR,value='''li.sku-attr-container.attr-v-show-li.is-color.is-sku-img.attr-model \n",
    "div div.attr-item-container div.clearfix span''')"
   ]
  },
  {
   "cell_type": "code",
   "execution_count": 51,
   "id": "acc372f0",
   "metadata": {},
   "outputs": [
    {
     "data": {
      "text/plain": [
       "4"
      ]
     },
     "execution_count": 51,
     "metadata": {},
     "output_type": "execute_result"
    }
   ],
   "source": [
    "len(product_colors)"
   ]
  },
  {
   "cell_type": "code",
   "execution_count": 34,
   "id": "15dd5408",
   "metadata": {},
   "outputs": [],
   "source": [
    "for i in product_colors:\n",
    "    time.sleep(1)\n",
    "    i.click()\n",
    "    time.sleep(5)"
   ]
  },
  {
   "cell_type": "code",
   "execution_count": 36,
   "id": "96b69977",
   "metadata": {},
   "outputs": [],
   "source": [
    "images=driver.find_elements(by=By.CSS_SELECTOR,value=\"div.pull-left.litb-span30 div div.left.carousel_img_wrapper div div ul li span img\")"
   ]
  },
  {
   "cell_type": "code",
   "execution_count": 37,
   "id": "bb362fba",
   "metadata": {},
   "outputs": [
    {
     "data": {
      "text/plain": [
       "6"
      ]
     },
     "execution_count": 37,
     "metadata": {},
     "output_type": "execute_result"
    }
   ],
   "source": [
    "len(images)"
   ]
  },
  {
   "cell_type": "code",
   "execution_count": 45,
   "id": "f9835f69",
   "metadata": {},
   "outputs": [],
   "source": [
    "highlights=driver.find_element(by=By.CSS_SELECTOR,value='div div.description-container div').text"
   ]
  },
  {
   "cell_type": "code",
   "execution_count": 47,
   "id": "bfeb080d",
   "metadata": {},
   "outputs": [],
   "source": [
    "list_to_extract=highlights.split(\"\\n\")"
   ]
  },
  {
   "cell_type": "code",
   "execution_count": 49,
   "id": "ba0ab3c6",
   "metadata": {},
   "outputs": [
    {
     "data": {
      "text/plain": [
       "['- Perfect for spring and summer',\n",
       " '- Short sleeve design for a comfortable fit']"
      ]
     },
     "execution_count": 49,
     "metadata": {},
     "output_type": "execute_result"
    }
   ],
   "source": []
  }
 ],
 "metadata": {
  "kernelspec": {
   "display_name": "Python 3 (ipykernel)",
   "language": "python",
   "name": "python3"
  },
  "language_info": {
   "codemirror_mode": {
    "name": "ipython",
    "version": 3
   },
   "file_extension": ".py",
   "mimetype": "text/x-python",
   "name": "python",
   "nbconvert_exporter": "python",
   "pygments_lexer": "ipython3",
   "version": "3.10.4"
  }
 },
 "nbformat": 4,
 "nbformat_minor": 5
}
