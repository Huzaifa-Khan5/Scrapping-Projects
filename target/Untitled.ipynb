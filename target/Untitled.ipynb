{
 "cells": [
  {
   "cell_type": "code",
   "execution_count": 1,
   "id": "1e783584",
   "metadata": {},
   "outputs": [],
   "source": [
    "from selenium import webdriver\n",
    "from selenium.webdriver.common.by import By\n",
    "from selenium.webdriver.common.keys import Keys\n",
    "import time\n",
    "from selenium.webdriver.support.ui import WebDriverWait\n",
    "from selenium.webdriver.support import expected_conditions as EC\n",
    "from selenium.common.exceptions import NoSuchElementException"
   ]
  },
  {
   "cell_type": "code",
   "execution_count": 2,
   "id": "09ed6290",
   "metadata": {},
   "outputs": [
    {
     "name": "stdout",
     "output_type": "stream",
     "text": [
      "Enter URL: https://www.target.com/c/frozen-single-serve-meals-foods-grocery/-/N-wdysv\n"
     ]
    }
   ],
   "source": [
    "input_url=input(\"Enter URL: \")\n",
    "driver=webdriver.Chrome()\n",
    "driver.get(input_url)\n",
    "# wait = WebDriverWait(driver,60)"
   ]
  },
  {
   "cell_type": "code",
   "execution_count": 3,
   "id": "e423367e",
   "metadata": {},
   "outputs": [],
   "source": [
    "products=driver.find_elements(by=By.CSS_SELECTOR,value=\"[data-test='product-details'] div div div [data-test='product-title']\")"
   ]
  },
  {
   "cell_type": "code",
   "execution_count": 4,
   "id": "01aae485",
   "metadata": {},
   "outputs": [
    {
     "data": {
      "text/plain": [
       "29"
      ]
     },
     "execution_count": 4,
     "metadata": {},
     "output_type": "execute_result"
    }
   ],
   "source": [
    "len(products)"
   ]
  },
  {
   "cell_type": "code",
   "execution_count": 5,
   "id": "c40d3cc0",
   "metadata": {},
   "outputs": [],
   "source": [
    "product_links=[p.get_attribute('href') for p in products]"
   ]
  },
  {
   "cell_type": "code",
   "execution_count": 6,
   "id": "ad1dd505",
   "metadata": {
    "scrolled": true
   },
   "outputs": [],
   "source": [
    "data=[]\n",
    "for product_link in product_links:\n",
    "    driver.get(product_link)\n",
    "    product_title=driver.find_element(by=By.CSS_SELECTOR,value='[data-test=\"product-title\"]').text\n",
    "    product_price=driver.find_element(by=By.CSS_SELECTOR,value='[data-test=\"product-price\"]').text\n",
    "    images=driver.find_elements(by=By.CSS_SELECTOR,value='[data-test=\"@web/SiteTopOfFunnel/BaseStackedImageGallery\"] div div div div div div img')\n",
    "    img_urls=[]\n",
    "    for i in images:\n",
    "        img_urls.append(i.get_attribute('src'))\n",
    "    \n",
    "    try:\n",
    "        img=','.join(img_urls)\n",
    "    except:\n",
    "        pass\n",
    "\n",
    "    driver.find_element(by=By.XPATH,value='//*[@id=\"product-detail-tabs\"]/div/div[3]').click()\n",
    "    details_values=driver.find_elements(by=By.CSS_SELECTOR,value='[data-test=\"item-details-specifications\"] div')\n",
    "    details={}\n",
    "    try:\n",
    "        for detail_value in details_values:\n",
    "            key,value=(detail_value.text.split(\":\"))\n",
    "            details[key]=value\n",
    "    except:\n",
    "        pass\n",
    "\n",
    "    data.append({'Product Title':product_title,\n",
    "                 'Product Price':product_price,\n",
    "                'Images':img,\n",
    "                **details})"
   ]
  },
  {
   "cell_type": "code",
   "execution_count": 7,
   "id": "7cdba4bd",
   "metadata": {},
   "outputs": [
    {
     "data": {
      "text/plain": [
       "29"
      ]
     },
     "execution_count": 7,
     "metadata": {},
     "output_type": "execute_result"
    }
   ],
   "source": [
    "len(data)"
   ]
  },
  {
   "cell_type": "code",
   "execution_count": 12,
   "id": "283a13fa",
   "metadata": {},
   "outputs": [],
   "source": [
    "import pandas as pd\n",
    "df=pd.DataFrame(data)\n",
    "df.to_csv(\"products.csv\", index=False)"
   ]
  }
 ],
 "metadata": {
  "kernelspec": {
   "display_name": "Python 3 (ipykernel)",
   "language": "python",
   "name": "python3"
  },
  "language_info": {
   "codemirror_mode": {
    "name": "ipython",
    "version": 3
   },
   "file_extension": ".py",
   "mimetype": "text/x-python",
   "name": "python",
   "nbconvert_exporter": "python",
   "pygments_lexer": "ipython3",
   "version": "3.10.4"
  }
 },
 "nbformat": 4,
 "nbformat_minor": 5
}
